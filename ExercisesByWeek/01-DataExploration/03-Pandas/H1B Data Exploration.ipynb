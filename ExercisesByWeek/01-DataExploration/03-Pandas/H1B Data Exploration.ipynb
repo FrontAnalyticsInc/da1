{
 "cells": [
  {
   "cell_type": "code",
   "execution_count": 1,
   "metadata": {
    "collapsed": true
   },
   "outputs": [],
   "source": [
    "import pandas as pd"
   ]
  },
  {
   "cell_type": "code",
   "execution_count": 2,
   "metadata": {
    "collapsed": true
   },
   "outputs": [],
   "source": [
    "df = pd.read_excel('data/H-1B_Disclosure_Data_FY17_Q1.xlsx')"
   ]
  },
  {
   "cell_type": "code",
   "execution_count": 3,
   "metadata": {
    "collapsed": false
   },
   "outputs": [
    {
     "data": {
      "text/html": [
       "<div>\n",
       "<table border=\"1\" class=\"dataframe\">\n",
       "  <thead>\n",
       "    <tr style=\"text-align: right;\">\n",
       "      <th></th>\n",
       "      <th>CASE_NUMBER</th>\n",
       "      <th>CASE_STATUS</th>\n",
       "      <th>CASE_SUBMITTED</th>\n",
       "      <th>DECISION_DATE</th>\n",
       "      <th>VISA_CLASS</th>\n",
       "      <th>EMPLOYMENT_START_DATE</th>\n",
       "      <th>EMPLOYMENT_END_DATE</th>\n",
       "      <th>EMPLOYER_NAME</th>\n",
       "      <th>EMPLOYER_ADDRESS</th>\n",
       "      <th>EMPLOYER_CITY</th>\n",
       "      <th>...</th>\n",
       "      <th>WAGE_RATE_OF_PAY_FROM</th>\n",
       "      <th>WAGE_RATE_OF_PAY_TO</th>\n",
       "      <th>WAGE_UNIT_OF_PAY</th>\n",
       "      <th>H-1B_DEPENDENT</th>\n",
       "      <th>WILLFUL_VIOLATOR</th>\n",
       "      <th>WORKSITE_CITY</th>\n",
       "      <th>WORKSITE_COUNTY</th>\n",
       "      <th>WORKSITE_STATE</th>\n",
       "      <th>WORKSITE_POSTAL_CODE</th>\n",
       "      <th>ORIGINAL_CERT_DATE</th>\n",
       "    </tr>\n",
       "  </thead>\n",
       "  <tbody>\n",
       "    <tr>\n",
       "      <th>0</th>\n",
       "      <td>I-200-09209-039181</td>\n",
       "      <td>CERTIFIED</td>\n",
       "      <td>2016-09-27</td>\n",
       "      <td>2016-10-03</td>\n",
       "      <td>H-1B</td>\n",
       "      <td>2016-10-01</td>\n",
       "      <td>2019-09-20</td>\n",
       "      <td>CLOUDWICK TECHNOLOGIES INC.</td>\n",
       "      <td>39899 BALENTINE DRIVE</td>\n",
       "      <td>NEWARK</td>\n",
       "      <td>...</td>\n",
       "      <td>102149.0</td>\n",
       "      <td>124675.0</td>\n",
       "      <td>Year</td>\n",
       "      <td>Y</td>\n",
       "      <td>N</td>\n",
       "      <td>MOUNTAIN VIEW</td>\n",
       "      <td>SANTA CLARA</td>\n",
       "      <td>CA</td>\n",
       "      <td>94040</td>\n",
       "      <td>NaT</td>\n",
       "    </tr>\n",
       "    <tr>\n",
       "      <th>1</th>\n",
       "      <td>I-200-10138-949973</td>\n",
       "      <td>CERTIFIED-WITHDRAWN</td>\n",
       "      <td>2016-03-11</td>\n",
       "      <td>2016-11-28</td>\n",
       "      <td>H-1B</td>\n",
       "      <td>2016-09-07</td>\n",
       "      <td>2019-09-06</td>\n",
       "      <td>WEST-CAMP PRESS, INC.</td>\n",
       "      <td>39 COLLEGEVIEW RD.</td>\n",
       "      <td>WESTERVILLE</td>\n",
       "      <td>...</td>\n",
       "      <td>45698.0</td>\n",
       "      <td>0.0</td>\n",
       "      <td>Year</td>\n",
       "      <td>N</td>\n",
       "      <td>N</td>\n",
       "      <td>WESTERVILLE</td>\n",
       "      <td>FRANKLIN</td>\n",
       "      <td>OH</td>\n",
       "      <td>43081</td>\n",
       "      <td>2016-03-17</td>\n",
       "    </tr>\n",
       "    <tr>\n",
       "      <th>2</th>\n",
       "      <td>I-200-11045-306092</td>\n",
       "      <td>WITHDRAWN</td>\n",
       "      <td>2016-12-05</td>\n",
       "      <td>2016-12-05</td>\n",
       "      <td>H-1B</td>\n",
       "      <td>2016-12-12</td>\n",
       "      <td>2019-06-30</td>\n",
       "      <td>FUTURETECH CONSULTANTS, L.L.C</td>\n",
       "      <td>5655 PEACHTREE PARKWAY</td>\n",
       "      <td>NORCROSS</td>\n",
       "      <td>...</td>\n",
       "      <td>66000.0</td>\n",
       "      <td>0.0</td>\n",
       "      <td>Year</td>\n",
       "      <td>Y</td>\n",
       "      <td>N</td>\n",
       "      <td>ALBANY</td>\n",
       "      <td>ALBANY</td>\n",
       "      <td>NY</td>\n",
       "      <td>12210</td>\n",
       "      <td>NaT</td>\n",
       "    </tr>\n",
       "    <tr>\n",
       "      <th>3</th>\n",
       "      <td>I-200-11080-460161</td>\n",
       "      <td>CERTIFIED-WITHDRAWN</td>\n",
       "      <td>2015-02-03</td>\n",
       "      <td>2016-10-31</td>\n",
       "      <td>H-1B</td>\n",
       "      <td>2015-02-09</td>\n",
       "      <td>2018-02-08</td>\n",
       "      <td>CONOCOPHILLIPS COMPANY</td>\n",
       "      <td>600 N. DAIRY ASHFORD</td>\n",
       "      <td>HOUSTON</td>\n",
       "      <td>...</td>\n",
       "      <td>94560.0</td>\n",
       "      <td>141840.0</td>\n",
       "      <td>Year</td>\n",
       "      <td>N</td>\n",
       "      <td>N</td>\n",
       "      <td>HOUSTON</td>\n",
       "      <td>HARRIS</td>\n",
       "      <td>TX</td>\n",
       "      <td>77084</td>\n",
       "      <td>2015-02-09</td>\n",
       "    </tr>\n",
       "    <tr>\n",
       "      <th>4</th>\n",
       "      <td>I-200-12047-839355</td>\n",
       "      <td>CERTIFIED-WITHDRAWN</td>\n",
       "      <td>2015-02-27</td>\n",
       "      <td>2016-10-07</td>\n",
       "      <td>H-1B</td>\n",
       "      <td>2015-08-29</td>\n",
       "      <td>2018-08-28</td>\n",
       "      <td>SUNERA TECHNOLOGIES, INC</td>\n",
       "      <td>631 E. BIG BEAVER</td>\n",
       "      <td>TROY</td>\n",
       "      <td>...</td>\n",
       "      <td>70000.0</td>\n",
       "      <td>0.0</td>\n",
       "      <td>Year</td>\n",
       "      <td>Y</td>\n",
       "      <td>N</td>\n",
       "      <td>GOLETA</td>\n",
       "      <td>SANTA BARBARA</td>\n",
       "      <td>CA</td>\n",
       "      <td>93117</td>\n",
       "      <td>2015-03-05</td>\n",
       "    </tr>\n",
       "  </tbody>\n",
       "</table>\n",
       "<p>5 rows × 40 columns</p>\n",
       "</div>"
      ],
      "text/plain": [
       "          CASE_NUMBER          CASE_STATUS CASE_SUBMITTED DECISION_DATE  \\\n",
       "0  I-200-09209-039181            CERTIFIED     2016-09-27    2016-10-03   \n",
       "1  I-200-10138-949973  CERTIFIED-WITHDRAWN     2016-03-11    2016-11-28   \n",
       "2  I-200-11045-306092            WITHDRAWN     2016-12-05    2016-12-05   \n",
       "3  I-200-11080-460161  CERTIFIED-WITHDRAWN     2015-02-03    2016-10-31   \n",
       "4  I-200-12047-839355  CERTIFIED-WITHDRAWN     2015-02-27    2016-10-07   \n",
       "\n",
       "  VISA_CLASS EMPLOYMENT_START_DATE EMPLOYMENT_END_DATE  \\\n",
       "0       H-1B            2016-10-01          2019-09-20   \n",
       "1       H-1B            2016-09-07          2019-09-06   \n",
       "2       H-1B            2016-12-12          2019-06-30   \n",
       "3       H-1B            2015-02-09          2018-02-08   \n",
       "4       H-1B            2015-08-29          2018-08-28   \n",
       "\n",
       "                   EMPLOYER_NAME        EMPLOYER_ADDRESS EMPLOYER_CITY  \\\n",
       "0    CLOUDWICK TECHNOLOGIES INC.   39899 BALENTINE DRIVE        NEWARK   \n",
       "1          WEST-CAMP PRESS, INC.      39 COLLEGEVIEW RD.   WESTERVILLE   \n",
       "2  FUTURETECH CONSULTANTS, L.L.C  5655 PEACHTREE PARKWAY      NORCROSS   \n",
       "3         CONOCOPHILLIPS COMPANY    600 N. DAIRY ASHFORD       HOUSTON   \n",
       "4       SUNERA TECHNOLOGIES, INC       631 E. BIG BEAVER          TROY   \n",
       "\n",
       "         ...         WAGE_RATE_OF_PAY_FROM WAGE_RATE_OF_PAY_TO  \\\n",
       "0        ...                      102149.0            124675.0   \n",
       "1        ...                       45698.0                 0.0   \n",
       "2        ...                       66000.0                 0.0   \n",
       "3        ...                       94560.0            141840.0   \n",
       "4        ...                       70000.0                 0.0   \n",
       "\n",
       "  WAGE_UNIT_OF_PAY H-1B_DEPENDENT  WILLFUL_VIOLATOR  WORKSITE_CITY  \\\n",
       "0             Year              Y                 N  MOUNTAIN VIEW   \n",
       "1             Year              N                 N    WESTERVILLE   \n",
       "2             Year              Y                 N         ALBANY   \n",
       "3             Year              N                 N        HOUSTON   \n",
       "4             Year              Y                 N         GOLETA   \n",
       "\n",
       "  WORKSITE_COUNTY WORKSITE_STATE WORKSITE_POSTAL_CODE ORIGINAL_CERT_DATE  \n",
       "0     SANTA CLARA             CA                94040                NaT  \n",
       "1        FRANKLIN             OH                43081         2016-03-17  \n",
       "2          ALBANY             NY                12210                NaT  \n",
       "3          HARRIS             TX                77084         2015-02-09  \n",
       "4   SANTA BARBARA             CA                93117         2015-03-05  \n",
       "\n",
       "[5 rows x 40 columns]"
      ]
     },
     "execution_count": 3,
     "metadata": {},
     "output_type": "execute_result"
    }
   ],
   "source": [
    "df.head()"
   ]
  },
  {
   "cell_type": "code",
   "execution_count": 4,
   "metadata": {
    "collapsed": false
   },
   "outputs": [
    {
     "data": {
      "text/plain": [
       "(93533, 40)"
      ]
     },
     "execution_count": 4,
     "metadata": {},
     "output_type": "execute_result"
    }
   ],
   "source": [
    "df.shape"
   ]
  },
  {
   "cell_type": "code",
   "execution_count": 5,
   "metadata": {
    "collapsed": false
   },
   "outputs": [
    {
     "data": {
      "text/plain": [
       "Index(['CASE_NUMBER', 'CASE_STATUS', 'CASE_SUBMITTED', 'DECISION_DATE',\n",
       "       'VISA_CLASS', 'EMPLOYMENT_START_DATE', 'EMPLOYMENT_END_DATE',\n",
       "       'EMPLOYER_NAME', 'EMPLOYER_ADDRESS', 'EMPLOYER_CITY', 'EMPLOYER_STATE',\n",
       "       'EMPLOYER_POSTAL_CODE', 'EMPLOYER_COUNTRY', 'EMPLOYER_PROVINCE',\n",
       "       'EMPLOYER_PHONE', 'EMPLOYER_PHONE_EXT', 'AGENT_ATTORNEY_NAME',\n",
       "       'AGENT_ATTORNEY_CITY', 'AGENT_ATTORNEY_STATE', 'JOB_TITLE', 'SOC_CODE',\n",
       "       'SOC_NAME', 'NAICS_CODE', 'TOTAL_WORKERS', 'FULL_TIME_POSITION',\n",
       "       'PREVAILING_WAGE', 'PW_UNIT_OF_PAY', 'PW_SOURCE', 'PW_SOURCE_YEAR',\n",
       "       'PW_SOURCE_OTHER', 'WAGE_RATE_OF_PAY_FROM', 'WAGE_RATE_OF_PAY_TO',\n",
       "       'WAGE_UNIT_OF_PAY', 'H-1B_DEPENDENT', 'WILLFUL_VIOLATOR',\n",
       "       'WORKSITE_CITY', 'WORKSITE_COUNTY', 'WORKSITE_STATE',\n",
       "       'WORKSITE_POSTAL_CODE', 'ORIGINAL_CERT_DATE'],\n",
       "      dtype='object')"
      ]
     },
     "execution_count": 5,
     "metadata": {},
     "output_type": "execute_result"
    }
   ],
   "source": [
    "df.columns"
   ]
  },
  {
   "cell_type": "code",
   "execution_count": 92,
   "metadata": {
    "collapsed": false
   },
   "outputs": [
    {
     "data": {
      "text/plain": [
       "['CASE_NUMBER',\n",
       " 'CASE_STATUS',\n",
       " 'CASE_SUBMITTED',\n",
       " 'DECISION_DATE',\n",
       " 'VISA_CLASS',\n",
       " 'EMPLOYMENT_START_DATE',\n",
       " 'EMPLOYMENT_END_DATE',\n",
       " 'EMPLOYER_NAME',\n",
       " 'EMPLOYER_ADDRESS',\n",
       " 'EMPLOYER_CITY',\n",
       " 'EMPLOYER_STATE',\n",
       " 'EMPLOYER_POSTAL_CODE',\n",
       " 'EMPLOYER_COUNTRY',\n",
       " 'EMPLOYER_PROVINCE',\n",
       " 'EMPLOYER_PHONE',\n",
       " 'EMPLOYER_PHONE_EXT',\n",
       " 'AGENT_ATTORNEY_NAME',\n",
       " 'AGENT_ATTORNEY_CITY',\n",
       " 'AGENT_ATTORNEY_STATE',\n",
       " 'JOB_TITLE',\n",
       " 'SOC_CODE',\n",
       " 'SOC_NAME',\n",
       " 'NAICS_CODE',\n",
       " 'TOTAL_WORKERS',\n",
       " 'FULL_TIME_POSITION',\n",
       " 'PREVAILING_WAGE',\n",
       " 'PW_UNIT_OF_PAY',\n",
       " 'PW_SOURCE',\n",
       " 'PW_SOURCE_YEAR',\n",
       " 'PW_SOURCE_OTHER',\n",
       " 'WAGE_RATE_OF_PAY_FROM',\n",
       " 'WAGE_RATE_OF_PAY_TO',\n",
       " 'WAGE_UNIT_OF_PAY',\n",
       " 'H-1B_DEPENDENT',\n",
       " 'WILLFUL_VIOLATOR',\n",
       " 'WORKSITE_CITY',\n",
       " 'WORKSITE_COUNTY',\n",
       " 'WORKSITE_STATE',\n",
       " 'WORKSITE_POSTAL_CODE',\n",
       " 'ORIGINAL_CERT_DATE']"
      ]
     },
     "execution_count": 92,
     "metadata": {},
     "output_type": "execute_result"
    }
   ],
   "source": [
    "list(df.columns)"
   ]
  },
  {
   "cell_type": "markdown",
   "metadata": {},
   "source": [
    "### Now let's start by exploring what each of these columns look like"
   ]
  },
  {
   "cell_type": "code",
   "execution_count": 9,
   "metadata": {
    "collapsed": false
   },
   "outputs": [
    {
     "data": {
      "text/plain": [
       "array(['CERTIFIED', 'CERTIFIED-WITHDRAWN', 'WITHDRAWN', 'DENIED'], dtype=object)"
      ]
     },
     "execution_count": 9,
     "metadata": {},
     "output_type": "execute_result"
    }
   ],
   "source": [
    "df.CASE_STATUS.unique()"
   ]
  },
  {
   "cell_type": "code",
   "execution_count": 10,
   "metadata": {
    "collapsed": false
   },
   "outputs": [
    {
     "data": {
      "text/plain": [
       "17055"
      ]
     },
     "execution_count": 10,
     "metadata": {},
     "output_type": "execute_result"
    }
   ],
   "source": [
    "### How many employers are there?\n",
    "len(df.EMPLOYER_NAME.unique())"
   ]
  },
  {
   "cell_type": "markdown",
   "metadata": {},
   "source": [
    "### How many job titles are there?"
   ]
  },
  {
   "cell_type": "code",
   "execution_count": 11,
   "metadata": {
    "collapsed": false
   },
   "outputs": [
    {
     "data": {
      "text/plain": [
       "20477"
      ]
     },
     "execution_count": 11,
     "metadata": {},
     "output_type": "execute_result"
    }
   ],
   "source": [
    "len(df.JOB_TITLE.unique())"
   ]
  },
  {
   "cell_type": "code",
   "execution_count": 12,
   "metadata": {
    "collapsed": true
   },
   "outputs": [],
   "source": [
    "%matplotlib inline"
   ]
  },
  {
   "cell_type": "code",
   "execution_count": 21,
   "metadata": {
    "collapsed": false
   },
   "outputs": [
    {
     "data": {
      "text/plain": [
       "count    93533.000000\n",
       "mean         1.952241\n",
       "std          4.796163\n",
       "min          1.000000\n",
       "25%          1.000000\n",
       "50%          1.000000\n",
       "75%          1.000000\n",
       "max        155.000000\n",
       "Name: TOTAL_WORKERS, dtype: float64"
      ]
     },
     "execution_count": 21,
     "metadata": {},
     "output_type": "execute_result"
    }
   ],
   "source": [
    "df.TOTAL_WORKERS.describe()"
   ]
  },
  {
   "cell_type": "code",
   "execution_count": 22,
   "metadata": {
    "collapsed": false
   },
   "outputs": [
    {
     "data": {
      "text/plain": [
       "count    89522.000000\n",
       "mean         1.091352\n",
       "std          0.553188\n",
       "min          1.000000\n",
       "25%          1.000000\n",
       "50%          1.000000\n",
       "75%          1.000000\n",
       "max          9.000000\n",
       "Name: TOTAL_WORKERS, dtype: float64"
      ]
     },
     "execution_count": 22,
     "metadata": {},
     "output_type": "execute_result"
    }
   ],
   "source": [
    "df.TOTAL_WORKERS[df.TOTAL_WORKERS < 10].describe()"
   ]
  },
  {
   "cell_type": "code",
   "execution_count": 24,
   "metadata": {
    "collapsed": false
   },
   "outputs": [
    {
     "data": {
      "text/plain": [
       "59314                           SOFTWARE ENGINEER\n",
       "33074               CELL MANUFACTURING TECHNICIAN\n",
       "41060                        STAFF RN - BSN CMICU\n",
       "86187                              TECHNICAL LEAD\n",
       "79072    INFORMATION TECHNOLOGY PROJECT MANAGER 4\n",
       "76893                          SYSTEMS ANALYST II\n",
       "52394                          PROGRAMMER ANALYST\n",
       "11244                        PROJECT MANAGER - IV\n",
       "86295                    PAID SOCIAL LEAD, AD OPS\n",
       "69842                         ASSURANCE ASSOCIATE\n",
       "Name: JOB_TITLE, dtype: object"
      ]
     },
     "execution_count": 24,
     "metadata": {},
     "output_type": "execute_result"
    }
   ],
   "source": [
    "df.JOB_TITLE.sample(10)"
   ]
  },
  {
   "cell_type": "code",
   "execution_count": 25,
   "metadata": {
    "collapsed": false
   },
   "outputs": [
    {
     "data": {
      "text/plain": [
       "63056    511210\n",
       "57000    541511\n",
       "83703      5191\n",
       "36681    541511\n",
       "86186    541519\n",
       "22089    335999\n",
       "10186    541511\n",
       "5054       3344\n",
       "39499    541511\n",
       "86948    541511\n",
       "Name: NAICS_CODE, dtype: int64"
      ]
     },
     "execution_count": 25,
     "metadata": {},
     "output_type": "execute_result"
    }
   ],
   "source": [
    "df.NAICS_CODE.sample(10)"
   ]
  },
  {
   "cell_type": "code",
   "execution_count": 26,
   "metadata": {
    "collapsed": false
   },
   "outputs": [
    {
     "data": {
      "text/plain": [
       "count     93533.000000\n",
       "mean      75734.586840\n",
       "std       32092.224973\n",
       "min           0.000000\n",
       "25%       59093.000000\n",
       "50%       73091.000000\n",
       "75%       92144.000000\n",
       "max      524778.000000\n",
       "Name: PREVAILING_WAGE, dtype: float64"
      ]
     },
     "execution_count": 26,
     "metadata": {},
     "output_type": "execute_result"
    }
   ],
   "source": [
    "df.PREVAILING_WAGE.describe()"
   ]
  },
  {
   "cell_type": "code",
   "execution_count": 43,
   "metadata": {
    "collapsed": false
   },
   "outputs": [],
   "source": [
    "is_data_analyst_job = df.JOB_TITLE.apply(lambda x: True if 'DATA ANALYST' in x else False)"
   ]
  },
  {
   "cell_type": "code",
   "execution_count": 44,
   "metadata": {
    "collapsed": false
   },
   "outputs": [
    {
     "data": {
      "text/plain": [
       "['ADMISSION DEVELOPMENT & DATA ANALYST',\n",
       " 'APPLICATION DATA ANALYST',\n",
       " 'ASSOCIATE, SENIOR DATA ANALYST',\n",
       " 'BI DATA ANALYST',\n",
       " 'BIG DATA ANALYST',\n",
       " 'BIG DATA ANALYST/ ENGINEER',\n",
       " 'BIGDATA ANALYST',\n",
       " 'BIOINFORMATICS DATA ANALYST',\n",
       " 'BUSINESS DATA ANALYST',\n",
       " 'BUSINESS INTELLIGENCE - DATA ANALYST',\n",
       " 'BUSINESS INTELLIGENCE DATA ANALYST',\n",
       " 'BUSINESS SYSTEM/ DATA ANALYST',\n",
       " 'BUSINESS SYSTEMS/DATA ANALYST',\n",
       " 'BUSINESS/DATA ANALYST',\n",
       " 'CAMPAIGN DEVELOPMENT / DATA ANALYST',\n",
       " 'CLIENT DATA ANALYST - ADVANCEMENT',\n",
       " 'CLINICAL DATA ANALYST',\n",
       " 'COMMUNITY DATA ANALYST',\n",
       " 'COMPUTER SYSTEMS & DATA ANALYST',\n",
       " 'COMPUTER SYSTEMS DATA ANALYST',\n",
       " 'COMPUTER SYSTEMS/DATA ANALYST',\n",
       " 'DATA ANALYST',\n",
       " 'DATA ANALYST (15-1199.02)',\n",
       " 'DATA ANALYST (1615.28797)',\n",
       " 'DATA ANALYST (MASTER ANALYTICAL STATISTICIAN)',\n",
       " 'DATA ANALYST (MODEL TESTING)',\n",
       " 'DATA ANALYST - ADOBE STOCK',\n",
       " 'DATA ANALYST - UNDERWRITING ANALYTICS',\n",
       " 'DATA ANALYST / BUSINESS SYSTEM ANALYST',\n",
       " 'DATA ANALYST 1',\n",
       " 'DATA ANALYST 1615.29774',\n",
       " 'DATA ANALYST 2',\n",
       " 'DATA ANALYST 3',\n",
       " 'DATA ANALYST FOR RESEARCH ADMINISTRATION',\n",
       " 'DATA ANALYST I',\n",
       " 'DATA ANALYST II',\n",
       " 'DATA ANALYST IV',\n",
       " 'DATA ANALYST LEAD',\n",
       " 'DATA ANALYST, ANALYTICS AND RESEARCH',\n",
       " 'DATA ANALYST, FINANCIAL OPERATIONS',\n",
       " 'DATA ANALYST, GAS & POWER RESEARCH',\n",
       " 'DATA ANALYST, MARKETING & PRODUCT ANALYTICS',\n",
       " 'DATA ANALYST/ BUSINESS INTELLIGENCE ANALYST',\n",
       " 'DATA ANALYST/ETL DEVELOPER',\n",
       " 'DATA ANALYST/SYSTEM ANALYST',\n",
       " 'DATA MODELER/ DATA ANALYST',\n",
       " 'DATA MODELER/DATA ANALYST',\n",
       " 'EDI DATA ANALYST',\n",
       " 'ERP DATA ANALYST',\n",
       " 'HEALTH INFORMATICS DATA ANALYST',\n",
       " 'HEALTHCARE DATA ANALYST',\n",
       " 'HEALTHCARE FINANCIAL DATA ANALYST',\n",
       " 'INSTITUTIONAL EFFECTIVENESS RESEARCH AND DATA ANALYST',\n",
       " 'INSTITUTIONAL RESEARCH DATA ANALYST',\n",
       " 'INTERNATIONAL DATA ANALYST',\n",
       " 'INTERNATIONAL MEDIA DATA ANALYST',\n",
       " 'IT BUSINESS DATA ANALYST',\n",
       " 'LEAD DATA ANALYST',\n",
       " 'MARKET DATA ANALYST',\n",
       " 'MARKETING DATA ANALYST',\n",
       " 'MEDIA ACCOUNTS DATA ANALYST',\n",
       " 'MEDIA DATA ANALYST',\n",
       " 'MERCHANDISING DATA ANALYST',\n",
       " 'MONITORING DATA ANALYST/ASSISTANT RESEARCH SCIENTIST',\n",
       " 'OPERATIONS DATA ANALYST',\n",
       " 'OUTCOME ANALYTICS & VALUE REALIZATION DATA ANALYST',\n",
       " 'PRINCIPAL DATA ANALYST',\n",
       " 'PROGRAMMER DATA ANALYST',\n",
       " 'QUALITY DATA ANALYST',\n",
       " 'REFERENCE DATA ANALYST III',\n",
       " 'RESEARCH DATA ANALYST',\n",
       " 'RESEARCH DATA ANALYST ASSOCIATE',\n",
       " 'RESERVOIR/PRODUCTS DATA ANALYST',\n",
       " 'RISK DATA ANALYST',\n",
       " 'SAS DATA ANALYST',\n",
       " 'SENIOR ASSOCIATE DATA ANALYST',\n",
       " 'SENIOR BUSINESS DATA ANALYST',\n",
       " 'SENIOR DATA ANALYST',\n",
       " 'SENIOR DATA ANALYST, ANALYTIC SOLUTIONS',\n",
       " 'SENIOR DATA ANALYST/ENGINEER',\n",
       " 'SENIOR INFORMATICS HEALTH DATA ANALYST',\n",
       " 'SENIOR MASTER DATA ANALYST',\n",
       " 'SENIOR RISK DATA ANALYST',\n",
       " 'SENIOR TECHNICAL DATA ANALYST',\n",
       " 'SMB DATA ANALYST I',\n",
       " 'SMD DATA ANALYST I',\n",
       " 'SOFTWARE DEVELOPER/BI DATA ANALYST',\n",
       " 'SOFTWARE DEVELOPER/DATA ANALYST',\n",
       " 'SOFTWARE ENGINEER/DATA ANALYST',\n",
       " 'SOFTWARE PROGRAMMER/DATA ANALYST',\n",
       " 'SQL DATA ANALYST',\n",
       " 'SR DATA ANALYST/ENGINEER',\n",
       " 'SR HR SYSTEMS DATA ANALYST',\n",
       " 'SR. DATA ANALYST',\n",
       " 'SR. DATA ANALYST & REPORTS DEVELOPER',\n",
       " 'SR. DATA ANALYST/PROGRAMMER ANALYST',\n",
       " 'SR. PROGRAMMER AND DATA ANALYST',\n",
       " 'SR. QA DATA ANALYST',\n",
       " 'SSAS/DATA ANALYST',\n",
       " 'STAFF BUSINESS DATA ANALYST',\n",
       " 'STATISTICAL DATA ANALYST',\n",
       " 'TECHNICAL DATA ANALYST',\n",
       " 'TRANSPORTATION DATA ANALYST',\n",
       " 'WEB DATA ANALYST']"
      ]
     },
     "execution_count": 44,
     "metadata": {},
     "output_type": "execute_result"
    }
   ],
   "source": [
    "job_titles = list(df[is_data_analyst_job].JOB_TITLE.unique())\n",
    "job_titles.sort()\n",
    "job_titles"
   ]
  },
  {
   "cell_type": "code",
   "execution_count": 45,
   "metadata": {
    "collapsed": false
   },
   "outputs": [
    {
     "data": {
      "text/plain": [
       "104"
      ]
     },
     "execution_count": 45,
     "metadata": {},
     "output_type": "execute_result"
    }
   ],
   "source": [
    "len(job_titles)"
   ]
  },
  {
   "cell_type": "code",
   "execution_count": 46,
   "metadata": {
    "collapsed": false
   },
   "outputs": [
    {
     "data": {
      "text/plain": [
       "count       322.000000\n",
       "mean      67004.882764\n",
       "std       27239.419750\n",
       "min          22.340000\n",
       "25%       55848.000000\n",
       "50%       66898.500000\n",
       "75%       82181.000000\n",
       "max      169749.000000\n",
       "Name: PREVAILING_WAGE, dtype: float64"
      ]
     },
     "execution_count": 46,
     "metadata": {},
     "output_type": "execute_result"
    }
   ],
   "source": [
    "df[is_data_analyst_job].PREVAILING_WAGE.describe()"
   ]
  },
  {
   "cell_type": "code",
   "execution_count": 47,
   "metadata": {
    "collapsed": false
   },
   "outputs": [
    {
     "data": {
      "text/plain": [
       "array([[<matplotlib.axes._subplots.AxesSubplot object at 0x7ff441f380f0>]], dtype=object)"
      ]
     },
     "execution_count": 47,
     "metadata": {},
     "output_type": "execute_result"
    },
    {
     "data": {
      "image/png": "[encoded data removed]",
      "text/plain": [
       "<matplotlib.figure.Figure at 0x7ff441f385c0>"
      ]
     },
     "metadata": {},
     "output_type": "display_data"
    }
   ],
   "source": [
    "df[is_data_analyst_job].hist('PREVAILING_WAGE')"
   ]
  },
  {
   "cell_type": "code",
   "execution_count": 52,
   "metadata": {
    "collapsed": false
   },
   "outputs": [],
   "source": [
    "df_data_analyst = df[is_data_analyst_job]"
   ]
  },
  {
   "cell_type": "code",
   "execution_count": 56,
   "metadata": {
    "collapsed": false
   },
   "outputs": [
    {
     "data": {
      "text/html": [
       "<div>\n",
       "<table border=\"1\" class=\"dataframe\">\n",
       "  <thead>\n",
       "    <tr style=\"text-align: right;\">\n",
       "      <th></th>\n",
       "      <th>CASE_NUMBER</th>\n",
       "      <th>CASE_STATUS</th>\n",
       "      <th>CASE_SUBMITTED</th>\n",
       "      <th>DECISION_DATE</th>\n",
       "      <th>VISA_CLASS</th>\n",
       "      <th>EMPLOYMENT_START_DATE</th>\n",
       "      <th>EMPLOYMENT_END_DATE</th>\n",
       "      <th>EMPLOYER_NAME</th>\n",
       "      <th>EMPLOYER_ADDRESS</th>\n",
       "      <th>EMPLOYER_CITY</th>\n",
       "      <th>...</th>\n",
       "      <th>WAGE_RATE_OF_PAY_FROM</th>\n",
       "      <th>WAGE_RATE_OF_PAY_TO</th>\n",
       "      <th>WAGE_UNIT_OF_PAY</th>\n",
       "      <th>H-1B_DEPENDENT</th>\n",
       "      <th>WILLFUL_VIOLATOR</th>\n",
       "      <th>WORKSITE_CITY</th>\n",
       "      <th>WORKSITE_COUNTY</th>\n",
       "      <th>WORKSITE_STATE</th>\n",
       "      <th>WORKSITE_POSTAL_CODE</th>\n",
       "      <th>ORIGINAL_CERT_DATE</th>\n",
       "    </tr>\n",
       "  </thead>\n",
       "  <tbody>\n",
       "    <tr>\n",
       "      <th>18005</th>\n",
       "      <td>I-200-16278-284563</td>\n",
       "      <td>CERTIFIED</td>\n",
       "      <td>2016-10-04</td>\n",
       "      <td>2016-10-11</td>\n",
       "      <td>H-1B</td>\n",
       "      <td>2016-11-02</td>\n",
       "      <td>2019-10-02</td>\n",
       "      <td>COLLABERA INC.</td>\n",
       "      <td>25 AIRPORT ROAD</td>\n",
       "      <td>MORRISTOWN</td>\n",
       "      <td>...</td>\n",
       "      <td>35.00</td>\n",
       "      <td>0.00</td>\n",
       "      <td>Hour</td>\n",
       "      <td>N</td>\n",
       "      <td>N</td>\n",
       "      <td>IRVING</td>\n",
       "      <td>DALLAS</td>\n",
       "      <td>TX</td>\n",
       "      <td>75038</td>\n",
       "      <td>NaT</td>\n",
       "    </tr>\n",
       "    <tr>\n",
       "      <th>19553</th>\n",
       "      <td>I-200-16279-474792</td>\n",
       "      <td>CERTIFIED</td>\n",
       "      <td>2016-10-07</td>\n",
       "      <td>2016-10-14</td>\n",
       "      <td>H-1B</td>\n",
       "      <td>2016-11-05</td>\n",
       "      <td>2019-11-05</td>\n",
       "      <td>GOKEN AMERICA, LLC</td>\n",
       "      <td>5100 PARKCENTER AVENUE</td>\n",
       "      <td>DUBLIN</td>\n",
       "      <td>...</td>\n",
       "      <td>33.51</td>\n",
       "      <td>45.00</td>\n",
       "      <td>Hour</td>\n",
       "      <td>Y</td>\n",
       "      <td>N</td>\n",
       "      <td>DUBLIN</td>\n",
       "      <td>FRANKLIN</td>\n",
       "      <td>OH</td>\n",
       "      <td>43017</td>\n",
       "      <td>NaT</td>\n",
       "    </tr>\n",
       "    <tr>\n",
       "      <th>27481</th>\n",
       "      <td>I-200-16288-305262</td>\n",
       "      <td>CERTIFIED</td>\n",
       "      <td>2016-10-14</td>\n",
       "      <td>2016-10-20</td>\n",
       "      <td>H-1B</td>\n",
       "      <td>2016-10-24</td>\n",
       "      <td>2019-10-23</td>\n",
       "      <td>POPULUS GROUP LLC</td>\n",
       "      <td>3001 WEST BIG BEAVER ROAD</td>\n",
       "      <td>TROY</td>\n",
       "      <td>...</td>\n",
       "      <td>49.00</td>\n",
       "      <td>0.00</td>\n",
       "      <td>Hour</td>\n",
       "      <td>N</td>\n",
       "      <td>N</td>\n",
       "      <td>SAN JOSE</td>\n",
       "      <td>SANTA CLARA</td>\n",
       "      <td>CA</td>\n",
       "      <td>95134</td>\n",
       "      <td>NaT</td>\n",
       "    </tr>\n",
       "    <tr>\n",
       "      <th>31437</th>\n",
       "      <td>I-200-16293-553032</td>\n",
       "      <td>CERTIFIED</td>\n",
       "      <td>2016-10-19</td>\n",
       "      <td>2016-10-25</td>\n",
       "      <td>H-1B</td>\n",
       "      <td>2016-10-19</td>\n",
       "      <td>2018-09-10</td>\n",
       "      <td>THE UNITED SOLUTIONS GROUP, INC.</td>\n",
       "      <td>1101 W. HAMILTON ST, STE 351,</td>\n",
       "      <td>ALLENTOWN</td>\n",
       "      <td>...</td>\n",
       "      <td>27.38</td>\n",
       "      <td>0.00</td>\n",
       "      <td>Hour</td>\n",
       "      <td>Y</td>\n",
       "      <td>N</td>\n",
       "      <td>ALLENTOWN</td>\n",
       "      <td>LEHIGH</td>\n",
       "      <td>PA</td>\n",
       "      <td>18101</td>\n",
       "      <td>NaT</td>\n",
       "    </tr>\n",
       "    <tr>\n",
       "      <th>31861</th>\n",
       "      <td>I-200-16293-904238</td>\n",
       "      <td>CERTIFIED</td>\n",
       "      <td>2016-10-19</td>\n",
       "      <td>2016-10-25</td>\n",
       "      <td>H-1B</td>\n",
       "      <td>2016-10-19</td>\n",
       "      <td>2016-11-18</td>\n",
       "      <td>THE UNITED SOLUTIONS GROUP, INC.</td>\n",
       "      <td>1101 W. HAMILTON ST, STE 351,</td>\n",
       "      <td>ALLENTOWN</td>\n",
       "      <td>...</td>\n",
       "      <td>27.38</td>\n",
       "      <td>0.00</td>\n",
       "      <td>Hour</td>\n",
       "      <td>Y</td>\n",
       "      <td>N</td>\n",
       "      <td>ALLENTOWN</td>\n",
       "      <td>LEHIGH</td>\n",
       "      <td>PA</td>\n",
       "      <td>18101</td>\n",
       "      <td>NaT</td>\n",
       "    </tr>\n",
       "    <tr>\n",
       "      <th>35465</th>\n",
       "      <td>I-200-16298-606954</td>\n",
       "      <td>CERTIFIED</td>\n",
       "      <td>2016-10-25</td>\n",
       "      <td>2016-10-31</td>\n",
       "      <td>H-1B</td>\n",
       "      <td>2016-11-07</td>\n",
       "      <td>2019-11-06</td>\n",
       "      <td>TRI VENTURES, INC. D/B/A AQUENT LLC</td>\n",
       "      <td>501 BOYLSTON STREET</td>\n",
       "      <td>BOSTON</td>\n",
       "      <td>...</td>\n",
       "      <td>42.07</td>\n",
       "      <td>70.00</td>\n",
       "      <td>Hour</td>\n",
       "      <td>N</td>\n",
       "      <td>N</td>\n",
       "      <td>BEAVERTON</td>\n",
       "      <td>MULTNOMAH</td>\n",
       "      <td>OR</td>\n",
       "      <td>97005</td>\n",
       "      <td>NaT</td>\n",
       "    </tr>\n",
       "    <tr>\n",
       "      <th>39449</th>\n",
       "      <td>I-200-16301-702657</td>\n",
       "      <td>CERTIFIED</td>\n",
       "      <td>2016-10-27</td>\n",
       "      <td>2016-11-02</td>\n",
       "      <td>H-1B</td>\n",
       "      <td>2016-11-14</td>\n",
       "      <td>2019-11-10</td>\n",
       "      <td>SAGARSOFT, INC</td>\n",
       "      <td>200 GLASTONBURY BLVD</td>\n",
       "      <td>GLASTONBURY</td>\n",
       "      <td>...</td>\n",
       "      <td>49.00</td>\n",
       "      <td>0.00</td>\n",
       "      <td>Hour</td>\n",
       "      <td>Y</td>\n",
       "      <td>N</td>\n",
       "      <td>FARMINGTON</td>\n",
       "      <td>HARTFORD</td>\n",
       "      <td>CT</td>\n",
       "      <td>06032</td>\n",
       "      <td>NaT</td>\n",
       "    </tr>\n",
       "    <tr>\n",
       "      <th>45512</th>\n",
       "      <td>I-200-16308-682105</td>\n",
       "      <td>CERTIFIED</td>\n",
       "      <td>2016-11-03</td>\n",
       "      <td>2016-11-09</td>\n",
       "      <td>H-1B</td>\n",
       "      <td>2016-12-16</td>\n",
       "      <td>2019-12-16</td>\n",
       "      <td>OPEN SYSTEMS, INC.</td>\n",
       "      <td>6495 SHILOH ROAD</td>\n",
       "      <td>ALPHARETTA</td>\n",
       "      <td>...</td>\n",
       "      <td>65.00</td>\n",
       "      <td>0.00</td>\n",
       "      <td>Hour</td>\n",
       "      <td>N</td>\n",
       "      <td>N</td>\n",
       "      <td>ALPHARETTA</td>\n",
       "      <td>GEORGIA</td>\n",
       "      <td>GA</td>\n",
       "      <td>30005</td>\n",
       "      <td>NaT</td>\n",
       "    </tr>\n",
       "    <tr>\n",
       "      <th>47777</th>\n",
       "      <td>I-200-16312-321568</td>\n",
       "      <td>CERTIFIED</td>\n",
       "      <td>2016-11-07</td>\n",
       "      <td>2016-11-14</td>\n",
       "      <td>H-1B</td>\n",
       "      <td>2016-11-28</td>\n",
       "      <td>2019-11-27</td>\n",
       "      <td>POPULUS GROUP LLC</td>\n",
       "      <td>3001 WEST BIG BEAVER ROAD</td>\n",
       "      <td>TROY</td>\n",
       "      <td>...</td>\n",
       "      <td>37.00</td>\n",
       "      <td>0.00</td>\n",
       "      <td>Hour</td>\n",
       "      <td>N</td>\n",
       "      <td>N</td>\n",
       "      <td>SOUTHFIELD</td>\n",
       "      <td>OAKLAND</td>\n",
       "      <td>MI</td>\n",
       "      <td>48075</td>\n",
       "      <td>NaT</td>\n",
       "    </tr>\n",
       "    <tr>\n",
       "      <th>49234</th>\n",
       "      <td>I-200-16313-560117</td>\n",
       "      <td>CERTIFIED</td>\n",
       "      <td>2016-11-08</td>\n",
       "      <td>2016-11-15</td>\n",
       "      <td>H-1B</td>\n",
       "      <td>2016-12-01</td>\n",
       "      <td>2017-11-30</td>\n",
       "      <td>ALBERT EINSTEIN COLLEGE OF MEDICINE</td>\n",
       "      <td>1300 MORRIS PARK AVENUE</td>\n",
       "      <td>BRONX</td>\n",
       "      <td>...</td>\n",
       "      <td>26.58</td>\n",
       "      <td>0.00</td>\n",
       "      <td>Hour</td>\n",
       "      <td>N</td>\n",
       "      <td>N</td>\n",
       "      <td>BRONX,NEW YORK</td>\n",
       "      <td>BRONX</td>\n",
       "      <td>NY</td>\n",
       "      <td>10461</td>\n",
       "      <td>NaT</td>\n",
       "    </tr>\n",
       "    <tr>\n",
       "      <th>52171</th>\n",
       "      <td>I-200-16315-992845</td>\n",
       "      <td>WITHDRAWN</td>\n",
       "      <td>2016-11-10</td>\n",
       "      <td>2016-11-15</td>\n",
       "      <td>H-1B</td>\n",
       "      <td>2016-12-05</td>\n",
       "      <td>2019-12-04</td>\n",
       "      <td>EPITEC, INC.</td>\n",
       "      <td>24800 DENSO DRIVE</td>\n",
       "      <td>SOUTHFIELD</td>\n",
       "      <td>...</td>\n",
       "      <td>42.70</td>\n",
       "      <td>0.00</td>\n",
       "      <td>Hour</td>\n",
       "      <td>N</td>\n",
       "      <td>N</td>\n",
       "      <td>DEARBORN</td>\n",
       "      <td>WAYNE</td>\n",
       "      <td>MI</td>\n",
       "      <td>48126</td>\n",
       "      <td>NaT</td>\n",
       "    </tr>\n",
       "    <tr>\n",
       "      <th>55329</th>\n",
       "      <td>I-200-16320-272600</td>\n",
       "      <td>CERTIFIED</td>\n",
       "      <td>2016-11-15</td>\n",
       "      <td>2016-11-21</td>\n",
       "      <td>H-1B</td>\n",
       "      <td>2016-11-21</td>\n",
       "      <td>2019-11-20</td>\n",
       "      <td>CANVAS INFOTECH, INC.</td>\n",
       "      <td>39465 PASEO PADRE PARKWAY</td>\n",
       "      <td>FREMONT</td>\n",
       "      <td>...</td>\n",
       "      <td>40.00</td>\n",
       "      <td>0.00</td>\n",
       "      <td>Hour</td>\n",
       "      <td>Y</td>\n",
       "      <td>N</td>\n",
       "      <td>HARTFORD</td>\n",
       "      <td>HARTFORD</td>\n",
       "      <td>CT</td>\n",
       "      <td>06103</td>\n",
       "      <td>NaT</td>\n",
       "    </tr>\n",
       "    <tr>\n",
       "      <th>56082</th>\n",
       "      <td>I-200-16320-900814</td>\n",
       "      <td>CERTIFIED</td>\n",
       "      <td>2016-11-15</td>\n",
       "      <td>2016-11-21</td>\n",
       "      <td>H-1B</td>\n",
       "      <td>2016-11-21</td>\n",
       "      <td>2019-11-20</td>\n",
       "      <td>CANVAS INFOTECH, INC.</td>\n",
       "      <td>39465 PASEO PADRE PARKWAY</td>\n",
       "      <td>FREMONT</td>\n",
       "      <td>...</td>\n",
       "      <td>40.00</td>\n",
       "      <td>0.00</td>\n",
       "      <td>Hour</td>\n",
       "      <td>Y</td>\n",
       "      <td>N</td>\n",
       "      <td>HARTFORD</td>\n",
       "      <td>HARTFORD</td>\n",
       "      <td>CT</td>\n",
       "      <td>06103</td>\n",
       "      <td>NaT</td>\n",
       "    </tr>\n",
       "    <tr>\n",
       "      <th>57102</th>\n",
       "      <td>I-200-16321-636280</td>\n",
       "      <td>CERTIFIED</td>\n",
       "      <td>2016-11-21</td>\n",
       "      <td>2016-11-28</td>\n",
       "      <td>H-1B</td>\n",
       "      <td>2017-05-13</td>\n",
       "      <td>2020-05-13</td>\n",
       "      <td>THE UNIVERSITY OF CHICAGO BOOTH SCHOOL OF BUSI...</td>\n",
       "      <td>5807 S WOODLAWN AVE.</td>\n",
       "      <td>CHICAGO</td>\n",
       "      <td>...</td>\n",
       "      <td>23.38</td>\n",
       "      <td>31.84</td>\n",
       "      <td>Hour</td>\n",
       "      <td>N</td>\n",
       "      <td>N</td>\n",
       "      <td>CHICAGO</td>\n",
       "      <td>COOK</td>\n",
       "      <td>IL</td>\n",
       "      <td>60637</td>\n",
       "      <td>NaT</td>\n",
       "    </tr>\n",
       "    <tr>\n",
       "      <th>64249</th>\n",
       "      <td>I-200-16328-929039</td>\n",
       "      <td>CERTIFIED</td>\n",
       "      <td>2016-11-30</td>\n",
       "      <td>2016-12-06</td>\n",
       "      <td>H-1B</td>\n",
       "      <td>2016-11-30</td>\n",
       "      <td>2019-11-29</td>\n",
       "      <td>TEK-PAL, LLC</td>\n",
       "      <td>910 RENAISSANCE WAY</td>\n",
       "      <td>ROSWELL</td>\n",
       "      <td>...</td>\n",
       "      <td>46.00</td>\n",
       "      <td>0.00</td>\n",
       "      <td>Hour</td>\n",
       "      <td>N</td>\n",
       "      <td>N</td>\n",
       "      <td>FRISCO</td>\n",
       "      <td>COLLIN</td>\n",
       "      <td>TX</td>\n",
       "      <td>75034</td>\n",
       "      <td>NaT</td>\n",
       "    </tr>\n",
       "    <tr>\n",
       "      <th>71902</th>\n",
       "      <td>I-200-16340-281732</td>\n",
       "      <td>CERTIFIED</td>\n",
       "      <td>2016-12-05</td>\n",
       "      <td>2016-12-09</td>\n",
       "      <td>H-1B</td>\n",
       "      <td>2017-01-09</td>\n",
       "      <td>2020-01-08</td>\n",
       "      <td>POPULUS GROUP LLC</td>\n",
       "      <td>3001 WEST BIG BEAVER ROAD</td>\n",
       "      <td>TROY</td>\n",
       "      <td>...</td>\n",
       "      <td>46.40</td>\n",
       "      <td>0.00</td>\n",
       "      <td>Hour</td>\n",
       "      <td>N</td>\n",
       "      <td>N</td>\n",
       "      <td>SOUTHFIELD</td>\n",
       "      <td>OAKLAND</td>\n",
       "      <td>MI</td>\n",
       "      <td>48075</td>\n",
       "      <td>NaT</td>\n",
       "    </tr>\n",
       "    <tr>\n",
       "      <th>72302</th>\n",
       "      <td>I-200-16340-573824</td>\n",
       "      <td>WITHDRAWN</td>\n",
       "      <td>2016-12-05</td>\n",
       "      <td>2016-12-05</td>\n",
       "      <td>H-1B</td>\n",
       "      <td>2017-01-09</td>\n",
       "      <td>2020-01-08</td>\n",
       "      <td>POPULUS GROUP LLC</td>\n",
       "      <td>3001 WEST BIG BEAVER ROAD</td>\n",
       "      <td>TROY</td>\n",
       "      <td>...</td>\n",
       "      <td>46.40</td>\n",
       "      <td>0.00</td>\n",
       "      <td>Hour</td>\n",
       "      <td>N</td>\n",
       "      <td>N</td>\n",
       "      <td>SOUTHFIELD</td>\n",
       "      <td>OAKLAND</td>\n",
       "      <td>MI</td>\n",
       "      <td>48075</td>\n",
       "      <td>NaT</td>\n",
       "    </tr>\n",
       "    <tr>\n",
       "      <th>72528</th>\n",
       "      <td>I-200-16340-765911</td>\n",
       "      <td>CERTIFIED</td>\n",
       "      <td>2016-12-05</td>\n",
       "      <td>2016-12-09</td>\n",
       "      <td>H-1B</td>\n",
       "      <td>2017-01-03</td>\n",
       "      <td>2020-01-02</td>\n",
       "      <td>EPITEC, INC.</td>\n",
       "      <td>24800 DENSO DRIVE</td>\n",
       "      <td>SOUTHFIELD</td>\n",
       "      <td>...</td>\n",
       "      <td>42.70</td>\n",
       "      <td>0.00</td>\n",
       "      <td>Hour</td>\n",
       "      <td>N</td>\n",
       "      <td>N</td>\n",
       "      <td>DEARBORN</td>\n",
       "      <td>WAYNE</td>\n",
       "      <td>MI</td>\n",
       "      <td>48126</td>\n",
       "      <td>NaT</td>\n",
       "    </tr>\n",
       "    <tr>\n",
       "      <th>74641</th>\n",
       "      <td>I-200-16342-315973</td>\n",
       "      <td>DENIED</td>\n",
       "      <td>2016-12-08</td>\n",
       "      <td>2016-12-14</td>\n",
       "      <td>H-1B</td>\n",
       "      <td>2016-12-07</td>\n",
       "      <td>2019-12-06</td>\n",
       "      <td>AURUM CAPITAL MANAGEMENT CORP.</td>\n",
       "      <td>84 W. SANTA CLARA ST., #490</td>\n",
       "      <td>SAN JOSE</td>\n",
       "      <td>...</td>\n",
       "      <td>38.46</td>\n",
       "      <td>0.00</td>\n",
       "      <td>Hour</td>\n",
       "      <td>N</td>\n",
       "      <td>N</td>\n",
       "      <td>SAN JOSE</td>\n",
       "      <td>CALIFORNIA</td>\n",
       "      <td>CA</td>\n",
       "      <td>95113</td>\n",
       "      <td>NaT</td>\n",
       "    </tr>\n",
       "    <tr>\n",
       "      <th>81117</th>\n",
       "      <td>I-200-16349-322477</td>\n",
       "      <td>CERTIFIED</td>\n",
       "      <td>2016-12-14</td>\n",
       "      <td>2016-12-20</td>\n",
       "      <td>H-1B</td>\n",
       "      <td>2016-12-19</td>\n",
       "      <td>2019-12-18</td>\n",
       "      <td>AURUM CAPITAL MANAGEMENT CORP.</td>\n",
       "      <td>84 W. SANTA CLARA ST., #490</td>\n",
       "      <td>SAN JOSE</td>\n",
       "      <td>...</td>\n",
       "      <td>38.46</td>\n",
       "      <td>0.00</td>\n",
       "      <td>Hour</td>\n",
       "      <td>N</td>\n",
       "      <td>N</td>\n",
       "      <td>SAN JOSE</td>\n",
       "      <td>SANTA CLARA</td>\n",
       "      <td>CA</td>\n",
       "      <td>95113</td>\n",
       "      <td>NaT</td>\n",
       "    </tr>\n",
       "    <tr>\n",
       "      <th>82870</th>\n",
       "      <td>I-200-16350-637771</td>\n",
       "      <td>CERTIFIED</td>\n",
       "      <td>2016-12-15</td>\n",
       "      <td>2016-12-21</td>\n",
       "      <td>H-1B</td>\n",
       "      <td>2016-12-19</td>\n",
       "      <td>2019-12-18</td>\n",
       "      <td>AURUM CAPITAL MANAGEMENT CORP.</td>\n",
       "      <td>84 W. SANTA CLARA ST., #490</td>\n",
       "      <td>SAN JOSE</td>\n",
       "      <td>...</td>\n",
       "      <td>38.46</td>\n",
       "      <td>0.00</td>\n",
       "      <td>Hour</td>\n",
       "      <td>N</td>\n",
       "      <td>N</td>\n",
       "      <td>SAN JOSE</td>\n",
       "      <td>SANTA CLARA</td>\n",
       "      <td>CA</td>\n",
       "      <td>95113</td>\n",
       "      <td>NaT</td>\n",
       "    </tr>\n",
       "    <tr>\n",
       "      <th>86574</th>\n",
       "      <td>I-200-16355-736138</td>\n",
       "      <td>CERTIFIED</td>\n",
       "      <td>2016-12-20</td>\n",
       "      <td>2016-12-27</td>\n",
       "      <td>H-1B</td>\n",
       "      <td>2017-01-03</td>\n",
       "      <td>2020-01-02</td>\n",
       "      <td>VASTIKA, INC.</td>\n",
       "      <td>1200 W. WALNUT HILL LANE</td>\n",
       "      <td>IRVING</td>\n",
       "      <td>...</td>\n",
       "      <td>35.00</td>\n",
       "      <td>0.00</td>\n",
       "      <td>Hour</td>\n",
       "      <td>Y</td>\n",
       "      <td>N</td>\n",
       "      <td>WEST CHESTER</td>\n",
       "      <td>CHESTER</td>\n",
       "      <td>PA</td>\n",
       "      <td>19380</td>\n",
       "      <td>NaT</td>\n",
       "    </tr>\n",
       "  </tbody>\n",
       "</table>\n",
       "<p>22 rows × 40 columns</p>\n",
       "</div>"
      ],
      "text/plain": [
       "              CASE_NUMBER CASE_STATUS CASE_SUBMITTED DECISION_DATE VISA_CLASS  \\\n",
       "18005  I-200-16278-284563   CERTIFIED     2016-10-04    2016-10-11       H-1B   \n",
       "19553  I-200-16279-474792   CERTIFIED     2016-10-07    2016-10-14       H-1B   \n",
       "27481  I-200-16288-305262   CERTIFIED     2016-10-14    2016-10-20       H-1B   \n",
       "31437  I-200-16293-553032   CERTIFIED     2016-10-19    2016-10-25       H-1B   \n",
       "31861  I-200-16293-904238   CERTIFIED     2016-10-19    2016-10-25       H-1B   \n",
       "35465  I-200-16298-606954   CERTIFIED     2016-10-25    2016-10-31       H-1B   \n",
       "39449  I-200-16301-702657   CERTIFIED     2016-10-27    2016-11-02       H-1B   \n",
       "45512  I-200-16308-682105   CERTIFIED     2016-11-03    2016-11-09       H-1B   \n",
       "47777  I-200-16312-321568   CERTIFIED     2016-11-07    2016-11-14       H-1B   \n",
       "49234  I-200-16313-560117   CERTIFIED     2016-11-08    2016-11-15       H-1B   \n",
       "52171  I-200-16315-992845   WITHDRAWN     2016-11-10    2016-11-15       H-1B   \n",
       "55329  I-200-16320-272600   CERTIFIED     2016-11-15    2016-11-21       H-1B   \n",
       "56082  I-200-16320-900814   CERTIFIED     2016-11-15    2016-11-21       H-1B   \n",
       "57102  I-200-16321-636280   CERTIFIED     2016-11-21    2016-11-28       H-1B   \n",
       "64249  I-200-16328-929039   CERTIFIED     2016-11-30    2016-12-06       H-1B   \n",
       "71902  I-200-16340-281732   CERTIFIED     2016-12-05    2016-12-09       H-1B   \n",
       "72302  I-200-16340-573824   WITHDRAWN     2016-12-05    2016-12-05       H-1B   \n",
       "72528  I-200-16340-765911   CERTIFIED     2016-12-05    2016-12-09       H-1B   \n",
       "74641  I-200-16342-315973      DENIED     2016-12-08    2016-12-14       H-1B   \n",
       "81117  I-200-16349-322477   CERTIFIED     2016-12-14    2016-12-20       H-1B   \n",
       "82870  I-200-16350-637771   CERTIFIED     2016-12-15    2016-12-21       H-1B   \n",
       "86574  I-200-16355-736138   CERTIFIED     2016-12-20    2016-12-27       H-1B   \n",
       "\n",
       "      EMPLOYMENT_START_DATE EMPLOYMENT_END_DATE  \\\n",
       "18005            2016-11-02          2019-10-02   \n",
       "19553            2016-11-05          2019-11-05   \n",
       "27481            2016-10-24          2019-10-23   \n",
       "31437            2016-10-19          2018-09-10   \n",
       "31861            2016-10-19          2016-11-18   \n",
       "35465            2016-11-07          2019-11-06   \n",
       "39449            2016-11-14          2019-11-10   \n",
       "45512            2016-12-16          2019-12-16   \n",
       "47777            2016-11-28          2019-11-27   \n",
       "49234            2016-12-01          2017-11-30   \n",
       "52171            2016-12-05          2019-12-04   \n",
       "55329            2016-11-21          2019-11-20   \n",
       "56082            2016-11-21          2019-11-20   \n",
       "57102            2017-05-13          2020-05-13   \n",
       "64249            2016-11-30          2019-11-29   \n",
       "71902            2017-01-09          2020-01-08   \n",
       "72302            2017-01-09          2020-01-08   \n",
       "72528            2017-01-03          2020-01-02   \n",
       "74641            2016-12-07          2019-12-06   \n",
       "81117            2016-12-19          2019-12-18   \n",
       "82870            2016-12-19          2019-12-18   \n",
       "86574            2017-01-03          2020-01-02   \n",
       "\n",
       "                                           EMPLOYER_NAME  \\\n",
       "18005                                     COLLABERA INC.   \n",
       "19553                                 GOKEN AMERICA, LLC   \n",
       "27481                                  POPULUS GROUP LLC   \n",
       "31437                   THE UNITED SOLUTIONS GROUP, INC.   \n",
       "31861                   THE UNITED SOLUTIONS GROUP, INC.   \n",
       "35465                TRI VENTURES, INC. D/B/A AQUENT LLC   \n",
       "39449                                     SAGARSOFT, INC   \n",
       "45512                                 OPEN SYSTEMS, INC.   \n",
       "47777                                  POPULUS GROUP LLC   \n",
       "49234                ALBERT EINSTEIN COLLEGE OF MEDICINE   \n",
       "52171                                       EPITEC, INC.   \n",
       "55329                              CANVAS INFOTECH, INC.   \n",
       "56082                              CANVAS INFOTECH, INC.   \n",
       "57102  THE UNIVERSITY OF CHICAGO BOOTH SCHOOL OF BUSI...   \n",
       "64249                                       TEK-PAL, LLC   \n",
       "71902                                  POPULUS GROUP LLC   \n",
       "72302                                  POPULUS GROUP LLC   \n",
       "72528                                       EPITEC, INC.   \n",
       "74641                     AURUM CAPITAL MANAGEMENT CORP.   \n",
       "81117                     AURUM CAPITAL MANAGEMENT CORP.   \n",
       "82870                     AURUM CAPITAL MANAGEMENT CORP.   \n",
       "86574                                      VASTIKA, INC.   \n",
       "\n",
       "                    EMPLOYER_ADDRESS EMPLOYER_CITY        ...          \\\n",
       "18005                25 AIRPORT ROAD    MORRISTOWN        ...           \n",
       "19553         5100 PARKCENTER AVENUE        DUBLIN        ...           \n",
       "27481      3001 WEST BIG BEAVER ROAD          TROY        ...           \n",
       "31437  1101 W. HAMILTON ST, STE 351,     ALLENTOWN        ...           \n",
       "31861  1101 W. HAMILTON ST, STE 351,     ALLENTOWN        ...           \n",
       "35465            501 BOYLSTON STREET        BOSTON        ...           \n",
       "39449           200 GLASTONBURY BLVD   GLASTONBURY        ...           \n",
       "45512               6495 SHILOH ROAD    ALPHARETTA        ...           \n",
       "47777      3001 WEST BIG BEAVER ROAD          TROY        ...           \n",
       "49234        1300 MORRIS PARK AVENUE         BRONX        ...           \n",
       "52171              24800 DENSO DRIVE    SOUTHFIELD        ...           \n",
       "55329      39465 PASEO PADRE PARKWAY       FREMONT        ...           \n",
       "56082      39465 PASEO PADRE PARKWAY       FREMONT        ...           \n",
       "57102           5807 S WOODLAWN AVE.       CHICAGO        ...           \n",
       "64249            910 RENAISSANCE WAY       ROSWELL        ...           \n",
       "71902      3001 WEST BIG BEAVER ROAD          TROY        ...           \n",
       "72302      3001 WEST BIG BEAVER ROAD          TROY        ...           \n",
       "72528              24800 DENSO DRIVE    SOUTHFIELD        ...           \n",
       "74641    84 W. SANTA CLARA ST., #490      SAN JOSE        ...           \n",
       "81117    84 W. SANTA CLARA ST., #490      SAN JOSE        ...           \n",
       "82870    84 W. SANTA CLARA ST., #490      SAN JOSE        ...           \n",
       "86574       1200 W. WALNUT HILL LANE        IRVING        ...           \n",
       "\n",
       "      WAGE_RATE_OF_PAY_FROM WAGE_RATE_OF_PAY_TO WAGE_UNIT_OF_PAY  \\\n",
       "18005                 35.00                0.00             Hour   \n",
       "19553                 33.51               45.00             Hour   \n",
       "27481                 49.00                0.00             Hour   \n",
       "31437                 27.38                0.00             Hour   \n",
       "31861                 27.38                0.00             Hour   \n",
       "35465                 42.07               70.00             Hour   \n",
       "39449                 49.00                0.00             Hour   \n",
       "45512                 65.00                0.00             Hour   \n",
       "47777                 37.00                0.00             Hour   \n",
       "49234                 26.58                0.00             Hour   \n",
       "52171                 42.70                0.00             Hour   \n",
       "55329                 40.00                0.00             Hour   \n",
       "56082                 40.00                0.00             Hour   \n",
       "57102                 23.38               31.84             Hour   \n",
       "64249                 46.00                0.00             Hour   \n",
       "71902                 46.40                0.00             Hour   \n",
       "72302                 46.40                0.00             Hour   \n",
       "72528                 42.70                0.00             Hour   \n",
       "74641                 38.46                0.00             Hour   \n",
       "81117                 38.46                0.00             Hour   \n",
       "82870                 38.46                0.00             Hour   \n",
       "86574                 35.00                0.00             Hour   \n",
       "\n",
       "      H-1B_DEPENDENT  WILLFUL_VIOLATOR   WORKSITE_CITY WORKSITE_COUNTY  \\\n",
       "18005              N                 N          IRVING          DALLAS   \n",
       "19553              Y                 N          DUBLIN        FRANKLIN   \n",
       "27481              N                 N        SAN JOSE     SANTA CLARA   \n",
       "31437              Y                 N       ALLENTOWN          LEHIGH   \n",
       "31861              Y                 N       ALLENTOWN          LEHIGH   \n",
       "35465              N                 N       BEAVERTON       MULTNOMAH   \n",
       "39449              Y                 N      FARMINGTON        HARTFORD   \n",
       "45512              N                 N      ALPHARETTA         GEORGIA   \n",
       "47777              N                 N      SOUTHFIELD         OAKLAND   \n",
       "49234              N                 N  BRONX,NEW YORK           BRONX   \n",
       "52171              N                 N        DEARBORN           WAYNE   \n",
       "55329              Y                 N        HARTFORD        HARTFORD   \n",
       "56082              Y                 N        HARTFORD        HARTFORD   \n",
       "57102              N                 N         CHICAGO            COOK   \n",
       "64249              N                 N          FRISCO          COLLIN   \n",
       "71902              N                 N      SOUTHFIELD         OAKLAND   \n",
       "72302              N                 N      SOUTHFIELD         OAKLAND   \n",
       "72528              N                 N        DEARBORN           WAYNE   \n",
       "74641              N                 N        SAN JOSE      CALIFORNIA   \n",
       "81117              N                 N        SAN JOSE     SANTA CLARA   \n",
       "82870              N                 N        SAN JOSE     SANTA CLARA   \n",
       "86574              Y                 N    WEST CHESTER         CHESTER   \n",
       "\n",
       "      WORKSITE_STATE WORKSITE_POSTAL_CODE ORIGINAL_CERT_DATE  \n",
       "18005             TX                75038                NaT  \n",
       "19553             OH                43017                NaT  \n",
       "27481             CA                95134                NaT  \n",
       "31437             PA                18101                NaT  \n",
       "31861             PA                18101                NaT  \n",
       "35465             OR                97005                NaT  \n",
       "39449             CT                06032                NaT  \n",
       "45512             GA                30005                NaT  \n",
       "47777             MI                48075                NaT  \n",
       "49234             NY                10461                NaT  \n",
       "52171             MI                48126                NaT  \n",
       "55329             CT                06103                NaT  \n",
       "56082             CT                06103                NaT  \n",
       "57102             IL                60637                NaT  \n",
       "64249             TX                75034                NaT  \n",
       "71902             MI                48075                NaT  \n",
       "72302             MI                48075                NaT  \n",
       "72528             MI                48126                NaT  \n",
       "74641             CA                95113                NaT  \n",
       "81117             CA                95113                NaT  \n",
       "82870             CA                95113                NaT  \n",
       "86574             PA                19380                NaT  \n",
       "\n",
       "[22 rows x 40 columns]"
      ]
     },
     "execution_count": 56,
     "metadata": {},
     "output_type": "execute_result"
    }
   ],
   "source": [
    "df_data_analyst[df_data_analyst.PREVAILING_WAGE < 20000]"
   ]
  },
  {
   "cell_type": "code",
   "execution_count": 58,
   "metadata": {
    "collapsed": false
   },
   "outputs": [
    {
     "data": {
      "text/plain": [
       "array(['Year', 'Hour', 'Week', 'Month', 'Bi-Weekly'], dtype=object)"
      ]
     },
     "execution_count": 58,
     "metadata": {},
     "output_type": "execute_result"
    }
   ],
   "source": [
    "df.WAGE_UNIT_OF_PAY.unique()"
   ]
  },
  {
   "cell_type": "code",
   "execution_count": 59,
   "metadata": {
    "collapsed": false
   },
   "outputs": [
    {
     "data": {
      "text/plain": [
       "(88701, 40)"
      ]
     },
     "execution_count": 59,
     "metadata": {},
     "output_type": "execute_result"
    }
   ],
   "source": [
    "df_years_only = df[df.WAGE_UNIT_OF_PAY == 'Year']\n",
    "df_years_only.shape"
   ]
  },
  {
   "cell_type": "code",
   "execution_count": 60,
   "metadata": {
    "collapsed": false
   },
   "outputs": [
    {
     "data": {
      "text/plain": [
       "array(['Y', 'N'], dtype=object)"
      ]
     },
     "execution_count": 60,
     "metadata": {},
     "output_type": "execute_result"
    }
   ],
   "source": [
    "df.FULL_TIME_POSITION.unique()"
   ]
  },
  {
   "cell_type": "code",
   "execution_count": 66,
   "metadata": {
    "collapsed": false
   },
   "outputs": [
    {
     "data": {
      "text/plain": [
       "(88695, 40)"
      ]
     },
     "execution_count": 66,
     "metadata": {},
     "output_type": "execute_result"
    }
   ],
   "source": [
    "df[(df.FULL_TIME_POSITION == 'Y') & (df.WAGE_UNIT_OF_PAY == 'Year')].shape"
   ]
  },
  {
   "cell_type": "code",
   "execution_count": 70,
   "metadata": {
    "collapsed": false
   },
   "outputs": [
    {
     "data": {
      "text/plain": [
       "(300, 40)"
      ]
     },
     "execution_count": 70,
     "metadata": {},
     "output_type": "execute_result"
    }
   ],
   "source": [
    "full_time_data_analysts = df[(df.FULL_TIME_POSITION == 'Y') & (df.WAGE_UNIT_OF_PAY == 'Year') & is_data_analyst_job]\n",
    "full_time_data_analysts.shape"
   ]
  },
  {
   "cell_type": "code",
   "execution_count": 71,
   "metadata": {
    "collapsed": false
   },
   "outputs": [
    {
     "data": {
      "text/plain": [
       "array([[<matplotlib.axes._subplots.AxesSubplot object at 0x7ff441674208>]], dtype=object)"
      ]
     },
     "execution_count": 71,
     "metadata": {},
     "output_type": "execute_result"
    },
    {
     "data": {
      "image/png": "[encoded data removed]",
      "text/plain": [
       "<matplotlib.figure.Figure at 0x7ff4416c19b0>"
      ]
     },
     "metadata": {},
     "output_type": "display_data"
    }
   ],
   "source": [
    "full_time_data_analysts.hist('PREVAILING_WAGE')"
   ]
  },
  {
   "cell_type": "code",
   "execution_count": 76,
   "metadata": {
    "collapsed": false
   },
   "outputs": [
    {
     "data": {
      "text/plain": [
       "['ADMISSION DEVELOPMENT & DATA ANALYST',\n",
       " 'ASSOCIATE, SENIOR DATA ANALYST',\n",
       " 'BI DATA ANALYST',\n",
       " 'BIG DATA ANALYST',\n",
       " 'BIG DATA ANALYST/ ENGINEER',\n",
       " 'BIGDATA ANALYST',\n",
       " 'BIOINFORMATICS DATA ANALYST',\n",
       " 'BUSINESS DATA ANALYST',\n",
       " 'BUSINESS INTELLIGENCE - DATA ANALYST',\n",
       " 'BUSINESS INTELLIGENCE DATA ANALYST',\n",
       " 'BUSINESS SYSTEMS/DATA ANALYST',\n",
       " 'BUSINESS/DATA ANALYST',\n",
       " 'CAMPAIGN DEVELOPMENT / DATA ANALYST',\n",
       " 'CLIENT DATA ANALYST - ADVANCEMENT',\n",
       " 'CLINICAL DATA ANALYST',\n",
       " 'COMMUNITY DATA ANALYST',\n",
       " 'COMPUTER SYSTEMS & DATA ANALYST',\n",
       " 'COMPUTER SYSTEMS DATA ANALYST',\n",
       " 'COMPUTER SYSTEMS/DATA ANALYST',\n",
       " 'DATA ANALYST',\n",
       " 'DATA ANALYST (15-1199.02)',\n",
       " 'DATA ANALYST (1615.28797)',\n",
       " 'DATA ANALYST (MASTER ANALYTICAL STATISTICIAN)',\n",
       " 'DATA ANALYST (MODEL TESTING)',\n",
       " 'DATA ANALYST - ADOBE STOCK',\n",
       " 'DATA ANALYST - UNDERWRITING ANALYTICS',\n",
       " 'DATA ANALYST / BUSINESS SYSTEM ANALYST',\n",
       " 'DATA ANALYST 1',\n",
       " 'DATA ANALYST 1615.29774',\n",
       " 'DATA ANALYST 2',\n",
       " 'DATA ANALYST 3',\n",
       " 'DATA ANALYST FOR RESEARCH ADMINISTRATION',\n",
       " 'DATA ANALYST I',\n",
       " 'DATA ANALYST II',\n",
       " 'DATA ANALYST IV',\n",
       " 'DATA ANALYST LEAD',\n",
       " 'DATA ANALYST, ANALYTICS AND RESEARCH',\n",
       " 'DATA ANALYST, FINANCIAL OPERATIONS',\n",
       " 'DATA ANALYST, GAS & POWER RESEARCH',\n",
       " 'DATA ANALYST, MARKETING & PRODUCT ANALYTICS',\n",
       " 'DATA ANALYST/ BUSINESS INTELLIGENCE ANALYST',\n",
       " 'DATA ANALYST/ETL DEVELOPER',\n",
       " 'DATA ANALYST/SYSTEM ANALYST',\n",
       " 'DATA MODELER/ DATA ANALYST',\n",
       " 'DATA MODELER/DATA ANALYST',\n",
       " 'EDI DATA ANALYST',\n",
       " 'HEALTH INFORMATICS DATA ANALYST',\n",
       " 'HEALTHCARE DATA ANALYST',\n",
       " 'HEALTHCARE FINANCIAL DATA ANALYST',\n",
       " 'INSTITUTIONAL EFFECTIVENESS RESEARCH AND DATA ANALYST',\n",
       " 'INSTITUTIONAL RESEARCH DATA ANALYST',\n",
       " 'INTERNATIONAL DATA ANALYST',\n",
       " 'INTERNATIONAL MEDIA DATA ANALYST',\n",
       " 'IT BUSINESS DATA ANALYST',\n",
       " 'LEAD DATA ANALYST',\n",
       " 'MARKETING DATA ANALYST',\n",
       " 'MEDIA ACCOUNTS DATA ANALYST',\n",
       " 'MEDIA DATA ANALYST',\n",
       " 'MERCHANDISING DATA ANALYST',\n",
       " 'MONITORING DATA ANALYST/ASSISTANT RESEARCH SCIENTIST',\n",
       " 'OPERATIONS DATA ANALYST',\n",
       " 'OUTCOME ANALYTICS & VALUE REALIZATION DATA ANALYST',\n",
       " 'PRINCIPAL DATA ANALYST',\n",
       " 'PROGRAMMER DATA ANALYST',\n",
       " 'QUALITY DATA ANALYST',\n",
       " 'REFERENCE DATA ANALYST III',\n",
       " 'RESEARCH DATA ANALYST',\n",
       " 'RESEARCH DATA ANALYST ASSOCIATE',\n",
       " 'RESERVOIR/PRODUCTS DATA ANALYST',\n",
       " 'RISK DATA ANALYST',\n",
       " 'SAS DATA ANALYST',\n",
       " 'SENIOR ASSOCIATE DATA ANALYST',\n",
       " 'SENIOR BUSINESS DATA ANALYST',\n",
       " 'SENIOR DATA ANALYST',\n",
       " 'SENIOR DATA ANALYST, ANALYTIC SOLUTIONS',\n",
       " 'SENIOR DATA ANALYST/ENGINEER',\n",
       " 'SENIOR INFORMATICS HEALTH DATA ANALYST',\n",
       " 'SENIOR MASTER DATA ANALYST',\n",
       " 'SENIOR RISK DATA ANALYST',\n",
       " 'SENIOR TECHNICAL DATA ANALYST',\n",
       " 'SMB DATA ANALYST I',\n",
       " 'SMD DATA ANALYST I',\n",
       " 'SOFTWARE DEVELOPER/BI DATA ANALYST',\n",
       " 'SOFTWARE DEVELOPER/DATA ANALYST',\n",
       " 'SOFTWARE ENGINEER/DATA ANALYST',\n",
       " 'SOFTWARE PROGRAMMER/DATA ANALYST',\n",
       " 'SQL DATA ANALYST',\n",
       " 'SR DATA ANALYST/ENGINEER',\n",
       " 'SR HR SYSTEMS DATA ANALYST',\n",
       " 'SR. DATA ANALYST',\n",
       " 'SR. DATA ANALYST & REPORTS DEVELOPER',\n",
       " 'SR. DATA ANALYST/PROGRAMMER ANALYST',\n",
       " 'SR. PROGRAMMER AND DATA ANALYST',\n",
       " 'SR. QA DATA ANALYST',\n",
       " 'SSAS/DATA ANALYST',\n",
       " 'STAFF BUSINESS DATA ANALYST',\n",
       " 'STATISTICAL DATA ANALYST',\n",
       " 'TECHNICAL DATA ANALYST',\n",
       " 'TRANSPORTATION DATA ANALYST']"
      ]
     },
     "execution_count": 76,
     "metadata": {},
     "output_type": "execute_result"
    }
   ],
   "source": [
    "job_titles_filtered = full_time_data_analysts.JOB_TITLE.unique()\n",
    "job_titles_filtered.sort()\n",
    "list(job_titles_filtered)"
   ]
  },
  {
   "cell_type": "code",
   "execution_count": 82,
   "metadata": {
    "collapsed": false
   },
   "outputs": [
    {
     "data": {
      "text/plain": [
       "array(['SENIOR DATA ANALYST', 'SENIOR BUSINESS DATA ANALYST',\n",
       "       'SENIOR DATA ANALYST, ANALYTIC SOLUTIONS',\n",
       "       'SR. PROGRAMMER AND DATA ANALYST', 'SENIOR ASSOCIATE DATA ANALYST',\n",
       "       'SR. DATA ANALYST', 'SENIOR MASTER DATA ANALYST',\n",
       "       'SR. QA DATA ANALYST', 'SENIOR RISK DATA ANALYST',\n",
       "       'SENIOR TECHNICAL DATA ANALYST', 'ASSOCIATE, SENIOR DATA ANALYST',\n",
       "       'SENIOR INFORMATICS HEALTH DATA ANALYST',\n",
       "       'SR. DATA ANALYST & REPORTS DEVELOPER',\n",
       "       'SENIOR DATA ANALYST/ENGINEER',\n",
       "       'SR. DATA ANALYST/PROGRAMMER ANALYST'], dtype=object)"
      ]
     },
     "execution_count": 82,
     "metadata": {},
     "output_type": "execute_result"
    }
   ],
   "source": [
    "senior_position = full_time_data_analysts.JOB_TITLE.apply(lambda x: True if 'SENIOR' in x or 'SR.' in x else False)\n",
    "full_time_data_analysts[senior_position].JOB_TITLE.unique()"
   ]
  },
  {
   "cell_type": "code",
   "execution_count": 86,
   "metadata": {
    "collapsed": false
   },
   "outputs": [
    {
     "name": "stderr",
     "output_type": "stream",
     "text": [
      "/opt/anaconda3/lib/python3.5/site-packages/ipykernel/__main__.py:1: SettingWithCopyWarning: \n",
      "A value is trying to be set on a copy of a slice from a DataFrame.\n",
      "Try using .loc[row_indexer,col_indexer] = value instead\n",
      "\n",
      "See the caveats in the documentation: http://pandas.pydata.org/pandas-docs/stable/indexing.html#indexing-view-versus-copy\n",
      "  if __name__ == '__main__':\n"
     ]
    }
   ],
   "source": [
    "full_time_data_analysts['senior_position'] = senior_position"
   ]
  },
  {
   "cell_type": "code",
   "execution_count": 88,
   "metadata": {
    "collapsed": false
   },
   "outputs": [
    {
     "data": {
      "text/plain": [
       "<matplotlib.axes._subplots.AxesSubplot at 0x7ff444b3f278>"
      ]
     },
     "execution_count": 88,
     "metadata": {},
     "output_type": "execute_result"
    },
    {
     "data": {
      "image/png": "[encoded data removed]",
      "text/plain": [
       "<matplotlib.figure.Figure at 0x7ff4448eceb8>"
      ]
     },
     "metadata": {},
     "output_type": "display_data"
    }
   ],
   "source": [
    "full_time_data_analysts.boxplot(column='PREVAILING_WAGE', by='senior_position')"
   ]
  },
  {
   "cell_type": "code",
   "execution_count": 90,
   "metadata": {
    "collapsed": false
   },
   "outputs": [
    {
     "data": {
      "text/plain": [
       "count        70.000000\n",
       "mean      82821.162857\n",
       "std       25294.995903\n",
       "min       34757.000000\n",
       "25%       65104.250000\n",
       "50%       78957.000000\n",
       "75%       94671.000000\n",
       "max      169749.000000\n",
       "Name: PREVAILING_WAGE, dtype: float64"
      ]
     },
     "execution_count": 90,
     "metadata": {},
     "output_type": "execute_result"
    }
   ],
   "source": [
    "full_time_data_analysts[senior_position].PREVAILING_WAGE.describe()"
   ]
  },
  {
   "cell_type": "code",
   "execution_count": 91,
   "metadata": {
    "collapsed": false
   },
   "outputs": [
    {
     "data": {
      "text/plain": [
       "count       230.000000\n",
       "mean      68597.008696\n",
       "std       18368.720144\n",
       "min       26520.000000\n",
       "25%       57491.000000\n",
       "50%       66477.000000\n",
       "75%       80969.000000\n",
       "max      135387.000000\n",
       "Name: PREVAILING_WAGE, dtype: float64"
      ]
     },
     "execution_count": 91,
     "metadata": {},
     "output_type": "execute_result"
    }
   ],
   "source": [
    "full_time_data_analysts[~senior_position].PREVAILING_WAGE.describe()"
   ]
  },
  {
   "cell_type": "markdown",
   "metadata": {},
   "source": [
    "## Exercise"
   ]
  },
  {
   "cell_type": "code",
   "execution_count": 93,
   "metadata": {
    "collapsed": false
   },
   "outputs": [
    {
     "name": "stdout",
     "output_type": "stream",
     "text": [
      "['CASE_NUMBER',\n",
      " 'CASE_STATUS',\n",
      " 'CASE_SUBMITTED',\n",
      " 'DECISION_DATE',\n",
      " 'VISA_CLASS',\n",
      " 'EMPLOYMENT_START_DATE',\n",
      " 'EMPLOYMENT_END_DATE',\n",
      " 'EMPLOYER_NAME',\n",
      " 'EMPLOYER_ADDRESS',\n",
      " 'EMPLOYER_CITY',\n",
      " 'EMPLOYER_STATE',\n",
      " 'EMPLOYER_POSTAL_CODE',\n",
      " 'EMPLOYER_COUNTRY',\n",
      " 'EMPLOYER_PROVINCE',\n",
      " 'EMPLOYER_PHONE',\n",
      " 'EMPLOYER_PHONE_EXT',\n",
      " 'AGENT_ATTORNEY_NAME',\n",
      " 'AGENT_ATTORNEY_CITY',\n",
      " 'AGENT_ATTORNEY_STATE',\n",
      " 'JOB_TITLE',\n",
      " 'SOC_CODE',\n",
      " 'SOC_NAME',\n",
      " 'NAICS_CODE',\n",
      " 'TOTAL_WORKERS',\n",
      " 'FULL_TIME_POSITION',\n",
      " 'PREVAILING_WAGE',\n",
      " 'PW_UNIT_OF_PAY',\n",
      " 'PW_SOURCE',\n",
      " 'PW_SOURCE_YEAR',\n",
      " 'PW_SOURCE_OTHER',\n",
      " 'WAGE_RATE_OF_PAY_FROM',\n",
      " 'WAGE_RATE_OF_PAY_TO',\n",
      " 'WAGE_UNIT_OF_PAY',\n",
      " 'H-1B_DEPENDENT',\n",
      " 'WILLFUL_VIOLATOR',\n",
      " 'WORKSITE_CITY',\n",
      " 'WORKSITE_COUNTY',\n",
      " 'WORKSITE_STATE',\n",
      " 'WORKSITE_POSTAL_CODE',\n",
      " 'ORIGINAL_CERT_DATE']\n"
     ]
    }
   ],
   "source": [
    "pprint(list(df.columns))"
   ]
  },
  {
   "cell_type": "markdown",
   "metadata": {},
   "source": [
    "### How many zip codes are represented in this data?"
   ]
  },
  {
   "cell_type": "code",
   "execution_count": null,
   "metadata": {
    "collapsed": true
   },
   "outputs": [],
   "source": []
  },
  {
   "cell_type": "markdown",
   "metadata": {},
   "source": [
    "### What's the average length of a decision?"
   ]
  },
  {
   "cell_type": "code",
   "execution_count": null,
   "metadata": {
    "collapsed": true
   },
   "outputs": [],
   "source": []
  },
  {
   "cell_type": "markdown",
   "metadata": {},
   "source": [
    "### How many willful violators are there?"
   ]
  },
  {
   "cell_type": "code",
   "execution_count": null,
   "metadata": {
    "collapsed": true
   },
   "outputs": [],
   "source": []
  },
  {
   "cell_type": "markdown",
   "metadata": {},
   "source": [
    "### How many Data Analysts positions are there in Utah?"
   ]
  },
  {
   "cell_type": "code",
   "execution_count": null,
   "metadata": {
    "collapsed": true
   },
   "outputs": [],
   "source": []
  },
  {
   "cell_type": "markdown",
   "metadata": {},
   "source": [
    "### How does the salary of a Data Analyst compare between Utah and California?"
   ]
  },
  {
   "cell_type": "code",
   "execution_count": null,
   "metadata": {
    "collapsed": true
   },
   "outputs": [],
   "source": []
  }
 ],
 "metadata": {
  "anaconda-cloud": {},
  "kernelspec": {
   "display_name": "Python [conda root]",
   "language": "python",
   "name": "conda-root-py"
  },
  "language_info": {
   "codemirror_mode": {
    "name": "ipython",
    "version": 3
   },
   "file_extension": ".py",
   "mimetype": "text/x-python",
   "name": "python",
   "nbconvert_exporter": "python",
   "pygments_lexer": "ipython3",
   "version": "3.5.2"
  }
 },
 "nbformat": 4,
 "nbformat_minor": 1
}
