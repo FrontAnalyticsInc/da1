{
 "cells": [
  {
   "cell_type": "code",
   "execution_count": 72,
   "metadata": {
    "collapsed": true
   },
   "outputs": [],
   "source": [
    "# import libraries\n",
    "from mailchimp3 import MailChimp\n",
    "import json\n",
    "from pprint import pprint\n",
    "import pandas as pd"
   ]
  },
  {
   "cell_type": "code",
   "execution_count": 3,
   "metadata": {
    "collapsed": false
   },
   "outputs": [],
   "source": [
    "# mailchimp\n",
    "# pip install mailchimp3\n",
    "\n",
    "MAILCHIMP_SECRET_KEY = 'xxxxxxxx'\n",
    "MAILCHIMP_USERNAME = 'alton@frontanalytics.com'\n",
    "\n",
    "client = MailChimp(MAILCHIMP_USERNAME, MAILCHIMP_SECRET_KEY)"
   ]
  },
  {
   "cell_type": "code",
   "execution_count": 19,
   "metadata": {
    "collapsed": false
   },
   "outputs": [
    {
     "data": {
      "text/plain": [
       "{u'lists': [{u'id': u'0074e9ce0c', u'name': u'Analytics in Marketing'},\n",
       "  {u'id': u'fceae0f208', u'name': u'Quantiative Journalism'},\n",
       "  {u'id': u'7e0579b5ca', u'name': u'Simply Econ'},\n",
       "  {u'id': u'abf5046707', u'name': u'Financial Quant'},\n",
       "  {u'id': u'ddc355ac21', u'name': u'Front Analytics'}],\n",
       " u'total_items': 5}"
      ]
     },
     "execution_count": 19,
     "metadata": {},
     "output_type": "execute_result"
    }
   ],
   "source": [
    "# Show all the lists in this\n",
    "response = client.lists.all(get_all=True, fields=\"lists.name,lists.id,lists.count\")\n",
    "response"
   ]
  },
  {
   "cell_type": "code",
   "execution_count": 22,
   "metadata": {
    "collapsed": false
   },
   "outputs": [
    {
     "data": {
      "text/plain": [
       "[{u'id': u'0074e9ce0c', u'name': u'Analytics in Marketing'},\n",
       " {u'id': u'fceae0f208', u'name': u'Quantiative Journalism'},\n",
       " {u'id': u'7e0579b5ca', u'name': u'Simply Econ'},\n",
       " {u'id': u'abf5046707', u'name': u'Financial Quant'},\n",
       " {u'id': u'ddc355ac21', u'name': u'Front Analytics'}]"
      ]
     },
     "execution_count": 22,
     "metadata": {},
     "output_type": "execute_result"
    }
   ],
   "source": [
    "# what campaigns do we have?\n",
    "response[\"lists\"]"
   ]
  },
  {
   "cell_type": "code",
   "execution_count": 10,
   "metadata": {
    "collapsed": false
   },
   "outputs": [],
   "source": [
    "# get all the campaigns\n",
    "campaigns = client.campaigns.all(get_all=True)"
   ]
  },
  {
   "cell_type": "code",
   "execution_count": null,
   "metadata": {
    "collapsed": true
   },
   "outputs": [],
   "source": [
    "# how many campaigns do we have?\n",
    "len(campaigns['campaigns'])"
   ]
  },
  {
   "cell_type": "code",
   "execution_count": 105,
   "metadata": {
    "collapsed": false
   },
   "outputs": [
    {
     "data": {
      "text/plain": [
       "Index([                                u'_links',\n",
       "                                  u'archive_url',\n",
       "                                 u'content_type',\n",
       "                                  u'create_time',\n",
       "                      u'delivery_status.enabled',\n",
       "                                  u'emails_sent',\n",
       "                                           u'id',\n",
       "                             u'long_archive_url',\n",
       "                           u'recipients.list_id',\n",
       "                         u'recipients.list_name',\n",
       "                   u'recipients.recipient_count',\n",
       "                      u'recipients.segment_text',\n",
       "                    u'report_summary.click_rate',\n",
       "                        u'report_summary.clicks',\n",
       "        u'report_summary.ecommerce.total_orders',\n",
       "       u'report_summary.ecommerce.total_revenue',\n",
       "         u'report_summary.ecommerce.total_spent',\n",
       "                     u'report_summary.open_rate',\n",
       "                         u'report_summary.opens',\n",
       "             u'report_summary.subscriber_clicks',\n",
       "                  u'report_summary.unique_opens',\n",
       "                   u'rss_opts.constrain_rss_img',\n",
       "                            u'rss_opts.feed_url',\n",
       "                           u'rss_opts.frequency',\n",
       "                           u'rss_opts.last_sent',\n",
       "                       u'rss_opts.schedule.hour',\n",
       "          u'rss_opts.schedule.monthly_send_date',\n",
       "            u'rss_opts.schedule.weekly_send_day',\n",
       "                                    u'send_time',\n",
       "                        u'settings.authenticate',\n",
       "                         u'settings.auto_footer',\n",
       "                          u'settings.auto_tweet',\n",
       "                       u'settings.drag_and_drop',\n",
       "                         u'settings.fb_comments',\n",
       "                           u'settings.folder_id',\n",
       "                           u'settings.from_name',\n",
       "                          u'settings.inline_css',\n",
       "                            u'settings.reply_to',\n",
       "                        u'settings.subject_line',\n",
       "                         u'settings.template_id',\n",
       "                            u'settings.timewarp',\n",
       "                               u'settings.title',\n",
       "                             u'settings.to_name',\n",
       "                    u'settings.use_conversation',\n",
       "                      u'social_card.description',\n",
       "                        u'social_card.image_url',\n",
       "                            u'social_card.title',\n",
       "                                       u'status',\n",
       "                           u'tracking.clicktale',\n",
       "                            u'tracking.ecomm360',\n",
       "                       u'tracking.goal_tracking',\n",
       "                    u'tracking.google_analytics',\n",
       "                         u'tracking.html_clicks',\n",
       "                               u'tracking.opens',\n",
       "                         u'tracking.text_clicks',\n",
       "                                         u'type'],\n",
       "      dtype='object')"
      ]
     },
     "execution_count": 105,
     "metadata": {},
     "output_type": "execute_result"
    }
   ],
   "source": [
    "#pd.DataFrame.from_dict(campaigns['campaigns'])\n",
    "df = pd.io.json.json_normalize(campaigns['campaigns'])\n",
    "df.columns"
   ]
  },
  {
   "cell_type": "code",
   "execution_count": 106,
   "metadata": {
    "collapsed": false
   },
   "outputs": [
    {
     "data": {
      "text/html": [
       "<div>\n",
       "<table border=\"1\" class=\"dataframe\">\n",
       "  <thead>\n",
       "    <tr style=\"text-align: right;\">\n",
       "      <th></th>\n",
       "      <th>id</th>\n",
       "      <th>recipients.list_name</th>\n",
       "      <th>send_time</th>\n",
       "      <th>emails_sent</th>\n",
       "      <th>report_summary.unique_opens</th>\n",
       "      <th>open_rate</th>\n",
       "    </tr>\n",
       "  </thead>\n",
       "  <tbody>\n",
       "    <tr>\n",
       "      <th>11</th>\n",
       "      <td>d360511c1e</td>\n",
       "      <td>Front Analytics</td>\n",
       "      <td>2016-06-20T17:22:57+00:00</td>\n",
       "      <td>36</td>\n",
       "      <td>24.0</td>\n",
       "      <td>0.666667</td>\n",
       "    </tr>\n",
       "    <tr>\n",
       "      <th>12</th>\n",
       "      <td>dac7d79253</td>\n",
       "      <td>Front Analytics</td>\n",
       "      <td>2016-10-07T14:15:00+00:00</td>\n",
       "      <td>250</td>\n",
       "      <td>94.0</td>\n",
       "      <td>0.376000</td>\n",
       "    </tr>\n",
       "    <tr>\n",
       "      <th>24</th>\n",
       "      <td>d6ef533667</td>\n",
       "      <td>Front Analytics</td>\n",
       "      <td>2016-11-28T21:52:07+00:00</td>\n",
       "      <td>330</td>\n",
       "      <td>117.0</td>\n",
       "      <td>0.354545</td>\n",
       "    </tr>\n",
       "    <tr>\n",
       "      <th>21</th>\n",
       "      <td>c688c8015d</td>\n",
       "      <td>Front Analytics</td>\n",
       "      <td>2016-11-09T23:51:13+00:00</td>\n",
       "      <td>316</td>\n",
       "      <td>112.0</td>\n",
       "      <td>0.354430</td>\n",
       "    </tr>\n",
       "    <tr>\n",
       "      <th>19</th>\n",
       "      <td>6c2964d4f6</td>\n",
       "      <td>Front Analytics</td>\n",
       "      <td>2016-10-27T22:59:58+00:00</td>\n",
       "      <td>284</td>\n",
       "      <td>100.0</td>\n",
       "      <td>0.352113</td>\n",
       "    </tr>\n",
       "    <tr>\n",
       "      <th>17</th>\n",
       "      <td>ffd5502951</td>\n",
       "      <td>Front Analytics</td>\n",
       "      <td>2016-10-16T22:45:00+00:00</td>\n",
       "      <td>293</td>\n",
       "      <td>102.0</td>\n",
       "      <td>0.348123</td>\n",
       "    </tr>\n",
       "    <tr>\n",
       "      <th>15</th>\n",
       "      <td>4456b97142</td>\n",
       "      <td>Front Analytics</td>\n",
       "      <td>2016-10-10T16:14:04+00:00</td>\n",
       "      <td>248</td>\n",
       "      <td>86.0</td>\n",
       "      <td>0.346774</td>\n",
       "    </tr>\n",
       "    <tr>\n",
       "      <th>22</th>\n",
       "      <td>6e54d1d692</td>\n",
       "      <td>Front Analytics</td>\n",
       "      <td>2016-11-15T01:51:11+00:00</td>\n",
       "      <td>332</td>\n",
       "      <td>114.0</td>\n",
       "      <td>0.343373</td>\n",
       "    </tr>\n",
       "    <tr>\n",
       "      <th>20</th>\n",
       "      <td>4ca397504b</td>\n",
       "      <td>Front Analytics</td>\n",
       "      <td>2016-11-01T16:52:51+00:00</td>\n",
       "      <td>324</td>\n",
       "      <td>107.0</td>\n",
       "      <td>0.330247</td>\n",
       "    </tr>\n",
       "    <tr>\n",
       "      <th>18</th>\n",
       "      <td>16ec7308a6</td>\n",
       "      <td>Front Analytics</td>\n",
       "      <td>2016-10-24T14:49:35+00:00</td>\n",
       "      <td>288</td>\n",
       "      <td>93.0</td>\n",
       "      <td>0.322917</td>\n",
       "    </tr>\n",
       "    <tr>\n",
       "      <th>26</th>\n",
       "      <td>8b39bee12b</td>\n",
       "      <td>Front Analytics</td>\n",
       "      <td>2016-12-14T18:55:08+00:00</td>\n",
       "      <td>326</td>\n",
       "      <td>105.0</td>\n",
       "      <td>0.322086</td>\n",
       "    </tr>\n",
       "    <tr>\n",
       "      <th>29</th>\n",
       "      <td>6b2346ef40</td>\n",
       "      <td>Front Analytics</td>\n",
       "      <td>2017-01-11T21:18:38+00:00</td>\n",
       "      <td>324</td>\n",
       "      <td>100.0</td>\n",
       "      <td>0.308642</td>\n",
       "    </tr>\n",
       "    <tr>\n",
       "      <th>14</th>\n",
       "      <td>c8889ac05c</td>\n",
       "      <td>Front Analytics</td>\n",
       "      <td></td>\n",
       "      <td>0</td>\n",
       "      <td>NaN</td>\n",
       "      <td>NaN</td>\n",
       "    </tr>\n",
       "    <tr>\n",
       "      <th>23</th>\n",
       "      <td>4d64111ea6</td>\n",
       "      <td>Front Analytics</td>\n",
       "      <td></td>\n",
       "      <td>0</td>\n",
       "      <td>NaN</td>\n",
       "      <td>NaN</td>\n",
       "    </tr>\n",
       "    <tr>\n",
       "      <th>25</th>\n",
       "      <td>d30f0ff1d9</td>\n",
       "      <td>Front Analytics</td>\n",
       "      <td></td>\n",
       "      <td>0</td>\n",
       "      <td>NaN</td>\n",
       "      <td>NaN</td>\n",
       "    </tr>\n",
       "  </tbody>\n",
       "</table>\n",
       "</div>"
      ],
      "text/plain": [
       "            id recipients.list_name                  send_time  emails_sent  \\\n",
       "11  d360511c1e      Front Analytics  2016-06-20T17:22:57+00:00           36   \n",
       "12  dac7d79253      Front Analytics  2016-10-07T14:15:00+00:00          250   \n",
       "24  d6ef533667      Front Analytics  2016-11-28T21:52:07+00:00          330   \n",
       "21  c688c8015d      Front Analytics  2016-11-09T23:51:13+00:00          316   \n",
       "19  6c2964d4f6      Front Analytics  2016-10-27T22:59:58+00:00          284   \n",
       "17  ffd5502951      Front Analytics  2016-10-16T22:45:00+00:00          293   \n",
       "15  4456b97142      Front Analytics  2016-10-10T16:14:04+00:00          248   \n",
       "22  6e54d1d692      Front Analytics  2016-11-15T01:51:11+00:00          332   \n",
       "20  4ca397504b      Front Analytics  2016-11-01T16:52:51+00:00          324   \n",
       "18  16ec7308a6      Front Analytics  2016-10-24T14:49:35+00:00          288   \n",
       "26  8b39bee12b      Front Analytics  2016-12-14T18:55:08+00:00          326   \n",
       "29  6b2346ef40      Front Analytics  2017-01-11T21:18:38+00:00          324   \n",
       "14  c8889ac05c      Front Analytics                                       0   \n",
       "23  4d64111ea6      Front Analytics                                       0   \n",
       "25  d30f0ff1d9      Front Analytics                                       0   \n",
       "\n",
       "    report_summary.unique_opens  open_rate  \n",
       "11                         24.0   0.666667  \n",
       "12                         94.0   0.376000  \n",
       "24                        117.0   0.354545  \n",
       "21                        112.0   0.354430  \n",
       "19                        100.0   0.352113  \n",
       "17                        102.0   0.348123  \n",
       "15                         86.0   0.346774  \n",
       "22                        114.0   0.343373  \n",
       "20                        107.0   0.330247  \n",
       "18                         93.0   0.322917  \n",
       "26                        105.0   0.322086  \n",
       "29                        100.0   0.308642  \n",
       "14                          NaN        NaN  \n",
       "23                          NaN        NaN  \n",
       "25                          NaN        NaN  "
      ]
     },
     "execution_count": 106,
     "metadata": {},
     "output_type": "execute_result"
    }
   ],
   "source": [
    "df = df[df[\"recipients.list_name\"]=='Front Analytics']\n",
    "df = df[['id','recipients.list_name','send_time','emails_sent','report_summary.unique_opens']]\n",
    "df['open_rate']=df['report_summary.unique_opens']/df['emails_sent']\n",
    "df.sort_values('open_rate', ascending=False )"
   ]
  },
  {
   "cell_type": "code",
   "execution_count": 70,
   "metadata": {
    "collapsed": false
   },
   "outputs": [
    {
     "name": "stdout",
     "output_type": "stream",
     "text": [
      "(u'd360511c1e', u'2016-06-20T17:22:57+00:00', u'Front Analytics', 36, 38, 4, 0.11111111111111)\n",
      "(u'dac7d79253', u'2016-10-07T14:15:00+00:00', u'Front Analytics', 250, 201, 57, 0.065040650406504)\n",
      "(u'4456b97142', u'2016-10-10T16:14:04+00:00', u'Front Analytics', 248, 126, 20, 0.056910569105691)\n",
      "(u'ffd5502951', u'2016-10-16T22:45:00+00:00', u'Front Analytics', 293, 242, 48, 0.087108013937282)\n",
      "(u'16ec7308a6', u'2016-10-24T14:49:35+00:00', u'Front Analytics', 288, 172, 49, 0.07719298245614)\n",
      "(u'6c2964d4f6', u'2016-10-27T22:59:58+00:00', u'Front Analytics', 284, 207, 21, 0.031914893617021)\n",
      "(u'4ca397504b', u'2016-11-01T16:52:51+00:00', u'Front Analytics', 324, 158, 26, 0.055900621118012)\n",
      "(u'c688c8015d', u'2016-11-09T23:51:13+00:00', u'Front Analytics', 316, 168, 18, 0.044303797468354)\n",
      "(u'6e54d1d692', u'2016-11-15T01:51:11+00:00', u'Front Analytics', 332, 225, 66, 0.05421686746988)\n",
      "(u'd6ef533667', u'2016-11-28T21:52:07+00:00', u'Front Analytics', 330, 237, 23, 0.03951367781155)\n",
      "(u'8b39bee12b', u'2016-12-14T18:55:08+00:00', u'Front Analytics', 326, 168, 15, 0.033742331288344)\n",
      "(u'6b2346ef40', u'2017-01-11T21:18:38+00:00', u'Front Analytics', 324, 150, 13, 0.021671826625387)\n"
     ]
    }
   ],
   "source": [
    "# get conversion metrics for each campaign \n",
    "\n",
    "# campaign_id\n",
    "# date\n",
    "# campaign_name\n",
    "# sends\n",
    "# opens\n",
    "# clicks\n",
    "for x in range( 0, len(campaigns['campaigns'])):\n",
    "    campaignid = campaigns['campaigns'][x]['id']\n",
    "    send_time = campaigns['campaigns'][x]['send_time']\n",
    "    \n",
    "    if list_name == 'Front Analytics' and 'report_summary' in campaigns['campaigns'][x].keys():\n",
    "        emails_sent = campaigns['campaigns'][x]['emails_sent']\n",
    "        \n",
    "        if 'opens' in campaigns['campaigns'][x]['report_summary'].keys():\n",
    "            opens = campaigns['campaigns'][x]['report_summary']['opens']\n",
    "        else: \n",
    "            opens = 0\n",
    "        \n",
    "        if 'clicks' in campaigns['campaigns'][x]['report_summary'].keys():\n",
    "            clicks = campaigns['campaigns'][x]['report_summary']['clicks']\n",
    "        else: \n",
    "            clicks = 0\n",
    "            \n",
    "        if 'click_rate' in campaigns['campaigns'][x]['report_summary'].keys():\n",
    "            click_rate = campaigns['campaigns'][x]['report_summary']['click_rate']\n",
    "        else: \n",
    "            click_rate = 0\n",
    "\n",
    "        print( campaignid, send_time, list_name, emails_sent, opens, clicks, click_rate)"
   ]
  },
  {
   "cell_type": "code",
   "execution_count": null,
   "metadata": {
    "collapsed": true
   },
   "outputs": [],
   "source": [
    "# next step?\n",
    "# who are the people that clicked and which campaign(s) did they click on?\n"
   ]
  },
  {
   "cell_type": "code",
   "execution_count": null,
   "metadata": {
    "collapsed": true
   },
   "outputs": [],
   "source": [
    "\n",
    "# in the future,\n",
    "# how do we send out campaigns with links that are unique to the subscriber!\n",
    "# http://kb.mailchimp.com/campaigns/design/create-unique-campaign-urls-for-subscribers\n"
   ]
  }
 ],
 "metadata": {
  "kernelspec": {
   "display_name": "Python [Root]",
   "language": "python",
   "name": "Python [Root]"
  },
  "language_info": {
   "codemirror_mode": {
    "name": "ipython",
    "version": 2
   },
   "file_extension": ".py",
   "mimetype": "text/x-python",
   "name": "python",
   "nbconvert_exporter": "python",
   "pygments_lexer": "ipython2",
   "version": "2.7.12"
  }
 },
 "nbformat": 4,
 "nbformat_minor": 0
}
