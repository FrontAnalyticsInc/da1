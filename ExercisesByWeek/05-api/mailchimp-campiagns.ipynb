{
 "cells": [
  {
   "cell_type": "code",
   "execution_count": 12,
   "metadata": {
    "collapsed": true
   },
   "outputs": [],
   "source": [
    "# import libraries\n",
    "from mailchimp3 import MailChimp\n",
    "import json\n",
    "from pprint import pprint"
   ]
  },
  {
   "cell_type": "code",
   "execution_count": 3,
   "metadata": {
    "collapsed": false
   },
   "outputs": [],
   "source": [
    "# mailchimp\n",
    "# pip install mailchimp3\n",
    "# http://kb.mailchimp.com/campaigns/design/create-unique-campaign-urls-for-subscribers\n",
    "\n",
    "MAILCHIMP_SECRET_KEY = 'xxxxxxxx'\n",
    "MAILCHIMP_USERNAME = 'alton@frontanalytics.com'\n",
    "\n",
    "client = MailChimp(MAILCHIMP_USERNAME, MAILCHIMP_SECRET_KEY)"
   ]
  },
  {
   "cell_type": "code",
   "execution_count": 19,
   "metadata": {
    "collapsed": false
   },
   "outputs": [
    {
     "data": {
      "text/plain": [
       "{u'lists': [{u'id': u'0074e9ce0c', u'name': u'Analytics in Marketing'},\n",
       "  {u'id': u'fceae0f208', u'name': u'Quantiative Journalism'},\n",
       "  {u'id': u'7e0579b5ca', u'name': u'Simply Econ'},\n",
       "  {u'id': u'abf5046707', u'name': u'Financial Quant'},\n",
       "  {u'id': u'ddc355ac21', u'name': u'Front Analytics'}],\n",
       " u'total_items': 5}"
      ]
     },
     "execution_count": 19,
     "metadata": {},
     "output_type": "execute_result"
    }
   ],
   "source": [
    "# Show all the lists in this\n",
    "response = client.lists.all(get_all=True, fields=\"lists.name,lists.id,lists.count\")\n",
    "response"
   ]
  },
  {
   "cell_type": "code",
   "execution_count": 22,
   "metadata": {
    "collapsed": false
   },
   "outputs": [
    {
     "data": {
      "text/plain": [
       "[{u'id': u'0074e9ce0c', u'name': u'Analytics in Marketing'},\n",
       " {u'id': u'fceae0f208', u'name': u'Quantiative Journalism'},\n",
       " {u'id': u'7e0579b5ca', u'name': u'Simply Econ'},\n",
       " {u'id': u'abf5046707', u'name': u'Financial Quant'},\n",
       " {u'id': u'ddc355ac21', u'name': u'Front Analytics'}]"
      ]
     },
     "execution_count": 22,
     "metadata": {},
     "output_type": "execute_result"
    }
   ],
   "source": [
    "# what campaigns do we have?\n",
    "response[\"lists\"]"
   ]
  },
  {
   "cell_type": "code",
   "execution_count": 10,
   "metadata": {
    "collapsed": false
   },
   "outputs": [],
   "source": [
    "# get all the campaigns\n",
    "campaigns = client.campaigns.all(get_all=True)"
   ]
  },
  {
   "cell_type": "code",
   "execution_count": null,
   "metadata": {
    "collapsed": true
   },
   "outputs": [],
   "source": [
    "# how many campaigns do we have?\n",
    "len(campaigns['campaigns'])"
   ]
  },
  {
   "cell_type": "code",
   "execution_count": 70,
   "metadata": {
    "collapsed": false
   },
   "outputs": [
    {
     "name": "stdout",
     "output_type": "stream",
     "text": [
      "(u'd360511c1e', u'2016-06-20T17:22:57+00:00', u'Front Analytics', 36, 38, 4, 0.11111111111111)\n",
      "(u'dac7d79253', u'2016-10-07T14:15:00+00:00', u'Front Analytics', 250, 201, 57, 0.065040650406504)\n",
      "(u'4456b97142', u'2016-10-10T16:14:04+00:00', u'Front Analytics', 248, 126, 20, 0.056910569105691)\n",
      "(u'ffd5502951', u'2016-10-16T22:45:00+00:00', u'Front Analytics', 293, 242, 48, 0.087108013937282)\n",
      "(u'16ec7308a6', u'2016-10-24T14:49:35+00:00', u'Front Analytics', 288, 172, 49, 0.07719298245614)\n",
      "(u'6c2964d4f6', u'2016-10-27T22:59:58+00:00', u'Front Analytics', 284, 207, 21, 0.031914893617021)\n",
      "(u'4ca397504b', u'2016-11-01T16:52:51+00:00', u'Front Analytics', 324, 158, 26, 0.055900621118012)\n",
      "(u'c688c8015d', u'2016-11-09T23:51:13+00:00', u'Front Analytics', 316, 168, 18, 0.044303797468354)\n",
      "(u'6e54d1d692', u'2016-11-15T01:51:11+00:00', u'Front Analytics', 332, 225, 66, 0.05421686746988)\n",
      "(u'd6ef533667', u'2016-11-28T21:52:07+00:00', u'Front Analytics', 330, 237, 23, 0.03951367781155)\n",
      "(u'8b39bee12b', u'2016-12-14T18:55:08+00:00', u'Front Analytics', 326, 168, 15, 0.033742331288344)\n",
      "(u'6b2346ef40', u'2017-01-11T21:18:38+00:00', u'Front Analytics', 324, 150, 13, 0.021671826625387)\n"
     ]
    }
   ],
   "source": [
    "# get conversion metrics for each campaign \n",
    "\n",
    "# campaign_id\n",
    "# date\n",
    "# campaign_name\n",
    "# sends\n",
    "# opens\n",
    "# clicks\n",
    "for x in range( 0, len(campaigns['campaigns'])):\n",
    "    campaignid = campaigns['campaigns'][x]['id']\n",
    "    send_time = campaigns['campaigns'][x]['send_time']\n",
    "    \n",
    "    if list_name == 'Front Analytics' and 'report_summary' in campaigns['campaigns'][x].keys():\n",
    "        emails_sent = campaigns['campaigns'][x]['emails_sent']\n",
    "        \n",
    "        if 'opens' in campaigns['campaigns'][x]['report_summary'].keys():\n",
    "            opens = campaigns['campaigns'][x]['report_summary']['opens']\n",
    "        else: \n",
    "            opens = 0\n",
    "        \n",
    "        if 'clicks' in campaigns['campaigns'][x]['report_summary'].keys():\n",
    "            clicks = campaigns['campaigns'][x]['report_summary']['clicks']\n",
    "        else: \n",
    "            clicks = 0\n",
    "            \n",
    "        if 'click_rate' in campaigns['campaigns'][x]['report_summary'].keys():\n",
    "            click_rate = campaigns['campaigns'][x]['report_summary']['click_rate']\n",
    "        else: \n",
    "            click_rate = 0\n",
    "\n",
    "        print( campaignid, send_time, list_name, emails_sent, opens, clicks, click_rate)"
   ]
  },
  {
   "cell_type": "code",
   "execution_count": null,
   "metadata": {
    "collapsed": true
   },
   "outputs": [],
   "source": [
    "# next step?\n",
    "# who are the people that clicked and which campaign(s) did they click on?"
   ]
  }
 ],
 "metadata": {
  "kernelspec": {
   "display_name": "Python [Root]",
   "language": "python",
   "name": "Python [Root]"
  },
  "language_info": {
   "codemirror_mode": {
    "name": "ipython",
    "version": 2
   },
   "file_extension": ".py",
   "mimetype": "text/x-python",
   "name": "python",
   "nbconvert_exporter": "python",
   "pygments_lexer": "ipython2",
   "version": "2.7.12"
  }
 },
 "nbformat": 4,
 "nbformat_minor": 0
}
